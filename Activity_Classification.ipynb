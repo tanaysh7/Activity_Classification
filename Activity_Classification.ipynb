{
 "cells": [
  {
   "cell_type": "markdown",
   "metadata": {},
   "source": [
    "##  Time Series Classification"
   ]
  },
  {
   "cell_type": "code",
   "execution_count": 510,
   "metadata": {
    "collapsed": true
   },
   "outputs": [],
   "source": [
    "from pandas import Series\n",
    "import pandas as pd\n",
    "import numpy as np\n",
    "import scikits.bootstrap\n",
    "import os\n",
    "import seaborn as sb\n",
    "import re\n",
    "import matplotlib.pyplot as plt\n",
    "from ggplot import *\n",
    "from sklearn import metrics\n",
    "from sklearn import linear_model\n",
    "from sklearn.preprocessing import StandardScaler\n",
    "from sklearn.utils import check_random_state\n",
    "from sklearn.naive_bayes import GaussianNB\n",
    "from sklearn.metrics import mean_squared_error\n",
    "from sklearn.metrics import confusion_matrix\n",
    "from sklearn.model_selection import StratifiedKFold\n",
    "from sklearn.model_selection import RepeatedKFold\n",
    "from sklearn.preprocessing import label_binarize\n",
    "from sklearn.metrics import roc_curve, auc\n",
    "from sklearn.model_selection import train_test_split\n",
    "from sklearn.preprocessing import label_binarize\n",
    "from sklearn.multiclass import OneVsRestClassifier\n",
    "from sklearn import svm\n",
    "from scipy import interp\n",
    "import sklearn.model_selection\n",
    "from sklearn.feature_selection import chi2"
   ]
  },
  {
   "cell_type": "code",
   "execution_count": 3,
   "metadata": {
    "collapsed": true
   },
   "outputs": [],
   "source": [
    "# To order files as human sort\n",
    "def atoi(text):\n",
    "    return int(text) if text.isdigit() else text\n",
    "\n",
    "def natural_keys(text):\n",
    "   \n",
    "    return [ atoi(c) for c in re.split('(\\d+)', text) ]\n"
   ]
  },
  {
   "cell_type": "code",
   "execution_count": 83,
   "metadata": {},
   "outputs": [
    {
     "data": {
      "text/html": [
       "<div>\n",
       "<style>\n",
       "    .dataframe thead tr:only-child th {\n",
       "        text-align: right;\n",
       "    }\n",
       "\n",
       "    .dataframe thead th {\n",
       "        text-align: left;\n",
       "    }\n",
       "\n",
       "    .dataframe tbody tr th {\n",
       "        vertical-align: top;\n",
       "    }\n",
       "</style>\n",
       "<table border=\"1\" class=\"dataframe\">\n",
       "  <thead>\n",
       "    <tr style=\"text-align: right;\">\n",
       "      <th></th>\n",
       "      <th># Columns: time</th>\n",
       "      <th>avg_rss12</th>\n",
       "      <th>var_rss12</th>\n",
       "      <th>avg_rss13</th>\n",
       "      <th>var_rss13</th>\n",
       "      <th>avg_rss23</th>\n",
       "      <th>var_rss23</th>\n",
       "    </tr>\n",
       "  </thead>\n",
       "  <tbody>\n",
       "    <tr>\n",
       "      <th>0</th>\n",
       "      <td>0</td>\n",
       "      <td>44.00</td>\n",
       "      <td>0.71</td>\n",
       "      <td>18.75</td>\n",
       "      <td>0.43</td>\n",
       "      <td>7.75</td>\n",
       "      <td>1.30</td>\n",
       "    </tr>\n",
       "    <tr>\n",
       "      <th>1</th>\n",
       "      <td>250</td>\n",
       "      <td>44.00</td>\n",
       "      <td>0.00</td>\n",
       "      <td>18.50</td>\n",
       "      <td>0.50</td>\n",
       "      <td>8.67</td>\n",
       "      <td>0.47</td>\n",
       "    </tr>\n",
       "    <tr>\n",
       "      <th>2</th>\n",
       "      <td>500</td>\n",
       "      <td>43.75</td>\n",
       "      <td>0.83</td>\n",
       "      <td>18.00</td>\n",
       "      <td>0.00</td>\n",
       "      <td>9.67</td>\n",
       "      <td>0.94</td>\n",
       "    </tr>\n",
       "    <tr>\n",
       "      <th>3</th>\n",
       "      <td>750</td>\n",
       "      <td>43.75</td>\n",
       "      <td>0.43</td>\n",
       "      <td>18.25</td>\n",
       "      <td>0.43</td>\n",
       "      <td>9.00</td>\n",
       "      <td>0.00</td>\n",
       "    </tr>\n",
       "    <tr>\n",
       "      <th>4</th>\n",
       "      <td>1000</td>\n",
       "      <td>43.75</td>\n",
       "      <td>0.43</td>\n",
       "      <td>18.00</td>\n",
       "      <td>0.00</td>\n",
       "      <td>9.00</td>\n",
       "      <td>0.00</td>\n",
       "    </tr>\n",
       "  </tbody>\n",
       "</table>\n",
       "</div>"
      ],
      "text/plain": [
       "   # Columns: time  avg_rss12  var_rss12  avg_rss13  var_rss13  avg_rss23  \\\n",
       "0                0      44.00       0.71      18.75       0.43       7.75   \n",
       "1              250      44.00       0.00      18.50       0.50       8.67   \n",
       "2              500      43.75       0.83      18.00       0.00       9.67   \n",
       "3              750      43.75       0.43      18.25       0.43       9.00   \n",
       "4             1000      43.75       0.43      18.00       0.00       9.00   \n",
       "\n",
       "   var_rss23  \n",
       "0       1.30  \n",
       "1       0.47  \n",
       "2       0.94  \n",
       "3       0.00  \n",
       "4       0.00  "
      ]
     },
     "execution_count": 83,
     "metadata": {},
     "output_type": "execute_result"
    }
   ],
   "source": [
    "df = pd.read_csv('data/sitting/dataset8.csv', header=4)\n",
    "df.head()"
   ]
  },
  {
   "cell_type": "code",
   "execution_count": 84,
   "metadata": {},
   "outputs": [
    {
     "name": "stdout",
     "output_type": "stream",
     "text": [
      "['avg_rss12_mean', 'avg_rss12_min', 'avg_rss12_max', 'avg_rss12_std', 'avg_rss12_25%', 'avg_rss12_50%', 'avg_rss12_75%', 'var_rss12_mean', 'var_rss12_min', 'var_rss12_max', 'var_rss12_std', 'var_rss12_25%', 'var_rss12_50%', 'var_rss12_75%', 'avg_rss13_mean', 'avg_rss13_min', 'avg_rss13_max', 'avg_rss13_std', 'avg_rss13_25%', 'avg_rss13_50%', 'avg_rss13_75%', 'var_rss13_mean', 'var_rss13_min', 'var_rss13_max', 'var_rss13_std', 'var_rss13_25%', 'var_rss13_50%', 'var_rss13_75%', 'avg_rss23_mean', 'avg_rss23_min', 'avg_rss23_max', 'avg_rss23_std', 'avg_rss23_25%', 'avg_rss23_50%', 'avg_rss23_75%', 'var_rss23_mean', 'var_rss23_min', 'var_rss23_max', 'var_rss23_std', 'var_rss23_25%', 'var_rss23_50%', 'var_rss23_75%', 'label']\n"
     ]
    }
   ],
   "source": [
    "featurelist=['mean','min','max','std','25%','50%','75%']\n",
    "features=[]\n",
    "for i in df.columns.values[1:]:\n",
    "    for j in featurelist:\n",
    "        features.append(i+\"_\"+j)\n",
    "features.append('label')\n",
    "print(features)"
   ]
  },
  {
   "cell_type": "code",
   "execution_count": 85,
   "metadata": {
    "collapsed": true
   },
   "outputs": [],
   "source": [
    "df1= pd.DataFrame(columns=features)"
   ]
  },
  {
   "cell_type": "code",
   "execution_count": 94,
   "metadata": {},
   "outputs": [
    {
     "name": "stdout",
     "output_type": "stream",
     "text": [
      "loaded data in df1\n"
     ]
    }
   ],
   "source": [
    "folderlist=os.listdir('data')\n",
    "\n",
    "k=0\n",
    "for folder in folderlist:\n",
    "    #print(folder)\n",
    "    files=os.listdir('data/'+folder)\n",
    "    files.sort(key=natural_keys)\n",
    "    #print(files)\n",
    "    for datafile in files:\n",
    "        featureval=[]\n",
    "        #print (datafile)\n",
    "        df = pd.read_csv('data/'+folder+'/'+datafile, header=4)\n",
    "        for i in range(1,7,1):\n",
    "            for j in range(0,len(featurelist),1):\n",
    "                values=df.describe()[df.columns.values[i]][featurelist[j]]\n",
    "                featureval.append(values)\n",
    "        df1.loc[k,features[:-1]]=featureval\n",
    "        df1.loc[k,'label']=folder\n",
    "        k=k+1\n",
    "print(\"loaded data in df1\")"
   ]
  },
  {
   "cell_type": "code",
   "execution_count": 95,
   "metadata": {},
   "outputs": [
    {
     "data": {
      "text/html": [
       "<div>\n",
       "<style>\n",
       "    .dataframe thead tr:only-child th {\n",
       "        text-align: right;\n",
       "    }\n",
       "\n",
       "    .dataframe thead th {\n",
       "        text-align: left;\n",
       "    }\n",
       "\n",
       "    .dataframe tbody tr th {\n",
       "        vertical-align: top;\n",
       "    }\n",
       "</style>\n",
       "<table border=\"1\" class=\"dataframe\">\n",
       "  <thead>\n",
       "    <tr style=\"text-align: right;\">\n",
       "      <th></th>\n",
       "      <th>avg_rss12_mean</th>\n",
       "      <th>avg_rss12_min</th>\n",
       "      <th>avg_rss12_max</th>\n",
       "      <th>avg_rss12_std</th>\n",
       "      <th>avg_rss12_25%</th>\n",
       "      <th>avg_rss12_50%</th>\n",
       "      <th>avg_rss12_75%</th>\n",
       "      <th>var_rss12_mean</th>\n",
       "      <th>var_rss12_min</th>\n",
       "      <th>var_rss12_max</th>\n",
       "      <th>...</th>\n",
       "      <th>avg_rss23_50%</th>\n",
       "      <th>avg_rss23_75%</th>\n",
       "      <th>var_rss23_mean</th>\n",
       "      <th>var_rss23_min</th>\n",
       "      <th>var_rss23_max</th>\n",
       "      <th>var_rss23_std</th>\n",
       "      <th>var_rss23_25%</th>\n",
       "      <th>var_rss23_50%</th>\n",
       "      <th>var_rss23_75%</th>\n",
       "      <th>label</th>\n",
       "    </tr>\n",
       "  </thead>\n",
       "  <tbody>\n",
       "    <tr>\n",
       "      <th>count</th>\n",
       "      <td>88.000000</td>\n",
       "      <td>88.0</td>\n",
       "      <td>88.0</td>\n",
       "      <td>88.000000</td>\n",
       "      <td>88.0</td>\n",
       "      <td>88.0</td>\n",
       "      <td>88.0</td>\n",
       "      <td>88.000000</td>\n",
       "      <td>88.0</td>\n",
       "      <td>88.0</td>\n",
       "      <td>...</td>\n",
       "      <td>88.0</td>\n",
       "      <td>88.00</td>\n",
       "      <td>88.000000</td>\n",
       "      <td>88.0</td>\n",
       "      <td>88.0</td>\n",
       "      <td>88.0000</td>\n",
       "      <td>88.00</td>\n",
       "      <td>88.0</td>\n",
       "      <td>88.00</td>\n",
       "      <td>88</td>\n",
       "    </tr>\n",
       "    <tr>\n",
       "      <th>unique</th>\n",
       "      <td>81.000000</td>\n",
       "      <td>59.0</td>\n",
       "      <td>41.0</td>\n",
       "      <td>81.000000</td>\n",
       "      <td>48.0</td>\n",
       "      <td>47.0</td>\n",
       "      <td>47.0</td>\n",
       "      <td>81.000000</td>\n",
       "      <td>1.0</td>\n",
       "      <td>68.0</td>\n",
       "      <td>...</td>\n",
       "      <td>52.0</td>\n",
       "      <td>53.00</td>\n",
       "      <td>82.000000</td>\n",
       "      <td>2.0</td>\n",
       "      <td>70.0</td>\n",
       "      <td>82.0000</td>\n",
       "      <td>27.00</td>\n",
       "      <td>31.0</td>\n",
       "      <td>40.00</td>\n",
       "      <td>7</td>\n",
       "    </tr>\n",
       "    <tr>\n",
       "      <th>top</th>\n",
       "      <td>27.716375</td>\n",
       "      <td>39.0</td>\n",
       "      <td>45.0</td>\n",
       "      <td>1.442253</td>\n",
       "      <td>42.0</td>\n",
       "      <td>36.0</td>\n",
       "      <td>45.0</td>\n",
       "      <td>0.363688</td>\n",
       "      <td>0.0</td>\n",
       "      <td>1.0</td>\n",
       "      <td>...</td>\n",
       "      <td>16.0</td>\n",
       "      <td>18.25</td>\n",
       "      <td>0.734271</td>\n",
       "      <td>0.0</td>\n",
       "      <td>4.5</td>\n",
       "      <td>1.8526</td>\n",
       "      <td>0.43</td>\n",
       "      <td>0.5</td>\n",
       "      <td>0.83</td>\n",
       "      <td>lying</td>\n",
       "    </tr>\n",
       "    <tr>\n",
       "      <th>freq</th>\n",
       "      <td>3.000000</td>\n",
       "      <td>7.0</td>\n",
       "      <td>8.0</td>\n",
       "      <td>3.000000</td>\n",
       "      <td>8.0</td>\n",
       "      <td>8.0</td>\n",
       "      <td>7.0</td>\n",
       "      <td>3.000000</td>\n",
       "      <td>88.0</td>\n",
       "      <td>9.0</td>\n",
       "      <td>...</td>\n",
       "      <td>7.0</td>\n",
       "      <td>6.00</td>\n",
       "      <td>2.000000</td>\n",
       "      <td>87.0</td>\n",
       "      <td>4.0</td>\n",
       "      <td>2.0000</td>\n",
       "      <td>25.00</td>\n",
       "      <td>17.0</td>\n",
       "      <td>11.00</td>\n",
       "      <td>15</td>\n",
       "    </tr>\n",
       "  </tbody>\n",
       "</table>\n",
       "<p>4 rows × 43 columns</p>\n",
       "</div>"
      ],
      "text/plain": [
       "        avg_rss12_mean  avg_rss12_min  avg_rss12_max  avg_rss12_std  \\\n",
       "count        88.000000           88.0           88.0      88.000000   \n",
       "unique       81.000000           59.0           41.0      81.000000   \n",
       "top          27.716375           39.0           45.0       1.442253   \n",
       "freq          3.000000            7.0            8.0       3.000000   \n",
       "\n",
       "        avg_rss12_25%  avg_rss12_50%  avg_rss12_75%  var_rss12_mean  \\\n",
       "count            88.0           88.0           88.0       88.000000   \n",
       "unique           48.0           47.0           47.0       81.000000   \n",
       "top              42.0           36.0           45.0        0.363688   \n",
       "freq              8.0            8.0            7.0        3.000000   \n",
       "\n",
       "        var_rss12_min  var_rss12_max  ...    avg_rss23_50%  avg_rss23_75%  \\\n",
       "count            88.0           88.0  ...             88.0          88.00   \n",
       "unique            1.0           68.0  ...             52.0          53.00   \n",
       "top               0.0            1.0  ...             16.0          18.25   \n",
       "freq             88.0            9.0  ...              7.0           6.00   \n",
       "\n",
       "        var_rss23_mean  var_rss23_min  var_rss23_max  var_rss23_std  \\\n",
       "count        88.000000           88.0           88.0        88.0000   \n",
       "unique       82.000000            2.0           70.0        82.0000   \n",
       "top           0.734271            0.0            4.5         1.8526   \n",
       "freq          2.000000           87.0            4.0         2.0000   \n",
       "\n",
       "        var_rss23_25%  var_rss23_50%  var_rss23_75%  label  \n",
       "count           88.00           88.0          88.00     88  \n",
       "unique          27.00           31.0          40.00      7  \n",
       "top              0.43            0.5           0.83  lying  \n",
       "freq            25.00           17.0          11.00     15  \n",
       "\n",
       "[4 rows x 43 columns]"
      ]
     },
     "execution_count": 95,
     "metadata": {},
     "output_type": "execute_result"
    }
   ],
   "source": [
    "df1.describe()"
   ]
  },
  {
   "cell_type": "markdown",
   "metadata": {
    "collapsed": true
   },
   "source": [
    "Keep datasets 1 and 2 in folders bending1 and bending 2, as well as datasets 1,\n",
    "2, and 3 in other folders as test data and other datasets as train data.\n"
   ]
  },
  {
   "cell_type": "code",
   "execution_count": 177,
   "metadata": {
    "collapsed": true
   },
   "outputs": [],
   "source": [
    "      "
   ]
  },
  {
   "cell_type": "code",
   "execution_count": 96,
   "metadata": {
    "collapsed": true
   },
   "outputs": [],
   "source": [
    "dftest=pd.DataFrame(columns=features)\n",
    "for i in folderlist:\n",
    "    if 'bending' in i:\n",
    "        dftest=dftest.append(df1[df1.label == i][:2])\n",
    "    else:\n",
    "        dftest=dftest.append(df1[df1.label == i][:3])\n",
    "dftrain = df1.drop(list(dftest.index.values))\n",
    "dftrain=dftrain.reset_index(drop=True)\n",
    "dftest=dftest.reset_index(drop=True)    "
   ]
  },
  {
   "cell_type": "code",
   "execution_count": 97,
   "metadata": {},
   "outputs": [
    {
     "data": {
      "text/html": [
       "<div>\n",
       "<style>\n",
       "    .dataframe thead tr:only-child th {\n",
       "        text-align: right;\n",
       "    }\n",
       "\n",
       "    .dataframe thead th {\n",
       "        text-align: left;\n",
       "    }\n",
       "\n",
       "    .dataframe tbody tr th {\n",
       "        vertical-align: top;\n",
       "    }\n",
       "</style>\n",
       "<table border=\"1\" class=\"dataframe\">\n",
       "  <thead>\n",
       "    <tr style=\"text-align: right;\">\n",
       "      <th></th>\n",
       "      <th>avg_rss12_mean</th>\n",
       "      <th>avg_rss12_min</th>\n",
       "      <th>avg_rss12_max</th>\n",
       "      <th>avg_rss12_std</th>\n",
       "      <th>avg_rss12_25%</th>\n",
       "      <th>avg_rss12_50%</th>\n",
       "      <th>avg_rss12_75%</th>\n",
       "      <th>var_rss12_mean</th>\n",
       "      <th>var_rss12_min</th>\n",
       "      <th>var_rss12_max</th>\n",
       "      <th>...</th>\n",
       "      <th>avg_rss23_50%</th>\n",
       "      <th>avg_rss23_75%</th>\n",
       "      <th>var_rss23_mean</th>\n",
       "      <th>var_rss23_min</th>\n",
       "      <th>var_rss23_max</th>\n",
       "      <th>var_rss23_std</th>\n",
       "      <th>var_rss23_25%</th>\n",
       "      <th>var_rss23_50%</th>\n",
       "      <th>var_rss23_75%</th>\n",
       "      <th>label</th>\n",
       "    </tr>\n",
       "  </thead>\n",
       "  <tbody>\n",
       "    <tr>\n",
       "      <th>count</th>\n",
       "      <td>69.000000</td>\n",
       "      <td>69.0</td>\n",
       "      <td>69.0</td>\n",
       "      <td>69.000000</td>\n",
       "      <td>69.0</td>\n",
       "      <td>69.0</td>\n",
       "      <td>69.0</td>\n",
       "      <td>69.000000</td>\n",
       "      <td>69.0</td>\n",
       "      <td>69.0</td>\n",
       "      <td>...</td>\n",
       "      <td>69.0</td>\n",
       "      <td>69.00</td>\n",
       "      <td>69.000000</td>\n",
       "      <td>69.0</td>\n",
       "      <td>69.00</td>\n",
       "      <td>69.000000</td>\n",
       "      <td>69.00</td>\n",
       "      <td>69.0</td>\n",
       "      <td>69.00</td>\n",
       "      <td>69</td>\n",
       "    </tr>\n",
       "    <tr>\n",
       "      <th>unique</th>\n",
       "      <td>65.000000</td>\n",
       "      <td>46.0</td>\n",
       "      <td>36.0</td>\n",
       "      <td>65.000000</td>\n",
       "      <td>43.0</td>\n",
       "      <td>41.0</td>\n",
       "      <td>40.0</td>\n",
       "      <td>65.000000</td>\n",
       "      <td>1.0</td>\n",
       "      <td>54.0</td>\n",
       "      <td>...</td>\n",
       "      <td>44.0</td>\n",
       "      <td>46.00</td>\n",
       "      <td>66.000000</td>\n",
       "      <td>2.0</td>\n",
       "      <td>57.00</td>\n",
       "      <td>66.000000</td>\n",
       "      <td>23.00</td>\n",
       "      <td>26.0</td>\n",
       "      <td>36.00</td>\n",
       "      <td>7</td>\n",
       "    </tr>\n",
       "    <tr>\n",
       "      <th>top</th>\n",
       "      <td>39.667833</td>\n",
       "      <td>39.0</td>\n",
       "      <td>45.0</td>\n",
       "      <td>0.208558</td>\n",
       "      <td>42.0</td>\n",
       "      <td>36.0</td>\n",
       "      <td>45.0</td>\n",
       "      <td>0.583604</td>\n",
       "      <td>0.0</td>\n",
       "      <td>1.0</td>\n",
       "      <td>...</td>\n",
       "      <td>16.0</td>\n",
       "      <td>18.25</td>\n",
       "      <td>0.766167</td>\n",
       "      <td>0.0</td>\n",
       "      <td>6.36</td>\n",
       "      <td>0.438442</td>\n",
       "      <td>0.43</td>\n",
       "      <td>0.5</td>\n",
       "      <td>0.83</td>\n",
       "      <td>lying</td>\n",
       "    </tr>\n",
       "    <tr>\n",
       "      <th>freq</th>\n",
       "      <td>2.000000</td>\n",
       "      <td>7.0</td>\n",
       "      <td>5.0</td>\n",
       "      <td>2.000000</td>\n",
       "      <td>6.0</td>\n",
       "      <td>7.0</td>\n",
       "      <td>7.0</td>\n",
       "      <td>2.000000</td>\n",
       "      <td>69.0</td>\n",
       "      <td>8.0</td>\n",
       "      <td>...</td>\n",
       "      <td>7.0</td>\n",
       "      <td>6.00</td>\n",
       "      <td>2.000000</td>\n",
       "      <td>68.0</td>\n",
       "      <td>3.00</td>\n",
       "      <td>2.000000</td>\n",
       "      <td>20.00</td>\n",
       "      <td>14.0</td>\n",
       "      <td>10.00</td>\n",
       "      <td>12</td>\n",
       "    </tr>\n",
       "  </tbody>\n",
       "</table>\n",
       "<p>4 rows × 43 columns</p>\n",
       "</div>"
      ],
      "text/plain": [
       "        avg_rss12_mean  avg_rss12_min  avg_rss12_max  avg_rss12_std  \\\n",
       "count        69.000000           69.0           69.0      69.000000   \n",
       "unique       65.000000           46.0           36.0      65.000000   \n",
       "top          39.667833           39.0           45.0       0.208558   \n",
       "freq          2.000000            7.0            5.0       2.000000   \n",
       "\n",
       "        avg_rss12_25%  avg_rss12_50%  avg_rss12_75%  var_rss12_mean  \\\n",
       "count            69.0           69.0           69.0       69.000000   \n",
       "unique           43.0           41.0           40.0       65.000000   \n",
       "top              42.0           36.0           45.0        0.583604   \n",
       "freq              6.0            7.0            7.0        2.000000   \n",
       "\n",
       "        var_rss12_min  var_rss12_max  ...    avg_rss23_50%  avg_rss23_75%  \\\n",
       "count            69.0           69.0  ...             69.0          69.00   \n",
       "unique            1.0           54.0  ...             44.0          46.00   \n",
       "top               0.0            1.0  ...             16.0          18.25   \n",
       "freq             69.0            8.0  ...              7.0           6.00   \n",
       "\n",
       "        var_rss23_mean  var_rss23_min  var_rss23_max  var_rss23_std  \\\n",
       "count        69.000000           69.0          69.00      69.000000   \n",
       "unique       66.000000            2.0          57.00      66.000000   \n",
       "top           0.766167            0.0           6.36       0.438442   \n",
       "freq          2.000000           68.0           3.00       2.000000   \n",
       "\n",
       "        var_rss23_25%  var_rss23_50%  var_rss23_75%  label  \n",
       "count           69.00           69.0          69.00     69  \n",
       "unique          23.00           26.0          36.00      7  \n",
       "top              0.43            0.5           0.83  lying  \n",
       "freq            20.00           14.0          10.00     12  \n",
       "\n",
       "[4 rows x 43 columns]"
      ]
     },
     "execution_count": 97,
     "metadata": {},
     "output_type": "execute_result"
    }
   ],
   "source": [
    "dftrain.describe()"
   ]
  },
  {
   "cell_type": "markdown",
   "metadata": {},
   "source": [
    "## (c) Feature Extraction"
   ]
  },
  {
   "cell_type": "markdown",
   "metadata": {},
   "source": [
    "### Simple statistical features\n",
    "\n",
    "* *Means* in each of the d dimensions\n",
    "* *Standard deviations* of the d dimensions\n",
    "* *Skewness, Kurtosis* and Higher order moments of the d dimensions\n",
    "* *Maximum* and *Minimum* values\n",
    "\n",
    "### Time series analysis related features\n",
    "\n",
    "* The d×d−1 Cross-Correlations between each dimension and the d Auto-Correlations-\n",
    "* Orders of the autoregressive (AR), integrated (I) and moving average (MA) part of an estimated ARIMA model\n",
    "* Parameters of the AR part\n",
    "* Parameters of the MA part\n",
    "\n",
    "### Frequency domain related features\n",
    "\n",
    "* frequencies of the k peaks in amplitude in the DFTs for the detrended d dimensions\n",
    "* k-quantiles of these DFTs"
   ]
  },
  {
   "cell_type": "code",
   "execution_count": 69,
   "metadata": {
    "collapsed": true,
    "scrolled": false
   },
   "outputs": [],
   "source": [
    "featureset1=['avg_rss12_mean', 'avg_rss12_min', 'avg_rss12_max', 'avg_rss12_std', 'avg_rss12_25%', 'avg_rss12_50%', 'avg_rss12_75%']\n"
   ]
  },
  {
   "cell_type": "markdown",
   "metadata": {},
   "source": [
    "### Bootstrap and confidence interval for Standard Deviation"
   ]
  },
  {
   "cell_type": "code",
   "execution_count": 70,
   "metadata": {},
   "outputs": [
    {
     "name": "stderr",
     "output_type": "stream",
     "text": [
      "C:\\Users\\tanay\\Anaconda3\\lib\\site-packages\\ipykernel_launcher.py:7: InstabilityWarning: BCa acceleration values for indexes (array([0], dtype=int64),) were undefined. Statistic values were likely all equal. Affected CI will be inaccurate.\n",
      "  import sys\n",
      "C:\\Users\\tanay\\Anaconda3\\lib\\site-packages\\ipykernel_launcher.py:7: InstabilityWarning: Some values were NaN; results are probably unstable (all values were probably equal)\n",
      "  import sys\n",
      "C:\\Users\\tanay\\Anaconda3\\lib\\site-packages\\ipykernel_launcher.py:7: InstabilityWarning: BCa acceleration values for indexes (array([0], dtype=int64),) were undefined. Statistic values were likely all equal. Affected CI will be inaccurate.\n",
      "  import sys\n",
      "C:\\Users\\tanay\\Anaconda3\\lib\\site-packages\\ipykernel_launcher.py:7: InstabilityWarning: Some values were NaN; results are probably unstable (all values were probably equal)\n",
      "  import sys\n"
     ]
    }
   ],
   "source": [
    "\n",
    "intervals=[]\n",
    "for i in dftrain.columns.values[:-1]:\n",
    "    stdlist=[]\n",
    "    for count in range(len(dftrain[i])):\n",
    "        stdlist.append(np.random.choice(dftrain[i], len(dftrain[i])).std())\n",
    "    intervals.append(scikits.bootstrap.ci(stdlist,n_samples=1000))"
   ]
  },
  {
   "cell_type": "code",
   "execution_count": 71,
   "metadata": {},
   "outputs": [
    {
     "name": "stdout",
     "output_type": "stream",
     "text": [
      "avg_rss12_mean  4.91769699386  [ 4.75566348  4.90859455]\n",
      "avg_rss12_min  8.79429486459  [ 8.38882622  8.69307243]\n",
      "avg_rss12_max  4.42918152931  [ 4.18343219  4.48156284]\n",
      "avg_rss12_std  1.7586316537  [ 1.68106493  1.73022859]\n",
      "avg_rss12_25%  5.73126206942  [ 5.55563196  5.69457575]\n",
      "avg_rss12_50%  4.95611090199  [ 4.78855605  4.96771721]\n",
      "avg_rss12_75%  4.78364513319  [ 4.59118888  4.83198912]\n",
      "var_rss12_mean  1.60066807967  [ 1.55738712  1.60728335]\n",
      "var_rss12_min  0.0  [ 0.  0.]\n",
      "var_rss12_max  5.14784141438  [ 4.99317806  5.10529762]\n",
      "var_rss12_std  0.902767261969  [ 0.88405455  0.90571201]\n",
      "var_rss12_25%  0.952200638549  [ 0.91801748  0.95457887]\n",
      "var_rss12_50%  1.43690261689  [ 1.38157106  1.42435784]\n",
      "var_rss12_75%  2.15825839013  [ 2.11477741  2.16785247]\n",
      "avg_rss13_mean  3.86331266689  [ 3.72380521  3.89664785]\n",
      "avg_rss13_min  3.05386906776  [ 2.9470283   3.01478952]\n",
      "avg_rss13_max  4.75985339562  [ 4.53254222  4.76253253]\n",
      "avg_rss13_std  0.995990451013  [ 0.94059503  0.99541418]\n",
      "avg_rss13_25%  4.14525463891  [ 4.03935951  4.19455664]\n",
      "avg_rss13_50%  3.84573037877  [ 3.67698912  3.8714554 ]\n",
      "avg_rss13_75%  3.94602334911  [ 3.73131394  3.89147363]\n",
      "var_rss13_mean  1.17972624994  [ 1.15497093  1.17660001]\n",
      "var_rss13_min  0.0  [ 0.  0.]\n",
      "var_rss13_max  2.30240792817  [ 2.24421866  2.30639779]\n",
      "var_rss13_std  0.473474154493  [ 0.45530248  0.4651742 ]\n",
      "var_rss13_25%  0.842771194282  [ 0.82638734  0.84399215]\n",
      "var_rss13_50%  1.14958482906  [ 1.12112137  1.14436842]\n",
      "var_rss13_75%  1.56656438903  [ 1.52644167  1.5519335 ]\n",
      "avg_rss23_mean  5.12051581192  [ 4.96852028  5.30180835]\n",
      "avg_rss23_min  5.36878590215  [ 4.96590232  5.39295613]\n",
      "avg_rss23_max  5.44972615203  [ 5.00579997  5.31933221]\n",
      "avg_rss23_std  1.05794242008  [ 0.98163698  1.04953666]\n",
      "avg_rss23_25%  5.54388202182  [ 5.22184755  5.58315565]\n",
      "avg_rss23_50%  5.26741392594  [ 5.00581302  5.43144956]\n",
      "avg_rss23_75%  4.9572305388  [ 4.68124765  5.01421345]\n",
      "var_rss23_mean  1.17125342338  [ 1.14218832  1.1658871 ]\n",
      "var_rss23_min  0.0517659168269  [ 0.03138334  0.04503608]\n",
      "var_rss23_max  2.54016600843  [ 2.44186533  2.52500911]\n",
      "var_rss23_std  0.519312570343  [ 0.50417644  0.51444828]\n",
      "var_rss23_25%  0.774233213195  [ 0.75453612  0.77108354]\n",
      "var_rss23_50%  1.1046257414  [ 1.07949627  1.10115791]\n",
      "var_rss23_75%  1.55021772493  [ 1.50783384  1.54191638]\n"
     ]
    }
   ],
   "source": [
    "for i in range(len(intervals)):\n",
    "    print(str(dftrain.columns.values[i])+\"  \"+str(dftrain.std()[i])+\"  \"+str(intervals[i]))"
   ]
  },
  {
   "cell_type": "markdown",
   "metadata": {},
   "source": [
    "### Selected : Mean, First Quartile (25%) and Third Quartile (75%)\n",
    "As values for min were 0, took 25%. Similarly, 75% instead of max to reduce outliers, and mean to get an estimate of min and max range."
   ]
  },
  {
   "cell_type": "code",
   "execution_count": 72,
   "metadata": {
    "collapsed": true
   },
   "outputs": [],
   "source": [
    "newfeaturelist=['mean','25%','75%']"
   ]
  },
  {
   "cell_type": "code",
   "execution_count": 80,
   "metadata": {},
   "outputs": [
    {
     "name": "stdout",
     "output_type": "stream",
     "text": [
      "['avg_rss12_mean', 'avg_rss12_25%', 'avg_rss12_75%', 'var_rss12_mean', 'var_rss12_25%', 'var_rss12_75%', 'avg_rss13_mean', 'avg_rss13_25%', 'avg_rss13_75%', 'var_rss13_mean', 'var_rss13_25%', 'var_rss13_75%', 'avg_rss23_mean', 'avg_rss23_25%', 'avg_rss23_75%', 'var_rss23_mean', 'var_rss23_25%', 'var_rss23_75%', 'label']\n"
     ]
    }
   ],
   "source": [
    "newfeatures=[]\n",
    "for i in df.columns.values[1:-1]:\n",
    "    for j in newfeaturelist:\n",
    "        newfeatures.append(i+\"_\"+j)\n",
    "newfeatures.append('label')\n",
    "print(newfeatures)"
   ]
  },
  {
   "cell_type": "code",
   "execution_count": 81,
   "metadata": {},
   "outputs": [
    {
     "data": {
      "text/html": [
       "<div>\n",
       "<style>\n",
       "    .dataframe thead tr:only-child th {\n",
       "        text-align: right;\n",
       "    }\n",
       "\n",
       "    .dataframe thead th {\n",
       "        text-align: left;\n",
       "    }\n",
       "\n",
       "    .dataframe tbody tr th {\n",
       "        vertical-align: top;\n",
       "    }\n",
       "</style>\n",
       "<table border=\"1\" class=\"dataframe\">\n",
       "  <thead>\n",
       "    <tr style=\"text-align: right;\">\n",
       "      <th></th>\n",
       "      <th>avg_rss12_mean</th>\n",
       "      <th>avg_rss12_25%</th>\n",
       "      <th>avg_rss12_75%</th>\n",
       "      <th>var_rss12_mean</th>\n",
       "      <th>var_rss12_25%</th>\n",
       "      <th>var_rss12_75%</th>\n",
       "      <th>avg_rss13_mean</th>\n",
       "      <th>avg_rss13_25%</th>\n",
       "      <th>avg_rss13_75%</th>\n",
       "      <th>var_rss13_mean</th>\n",
       "      <th>var_rss13_25%</th>\n",
       "      <th>var_rss13_75%</th>\n",
       "      <th>avg_rss23_mean</th>\n",
       "      <th>avg_rss23_25%</th>\n",
       "      <th>avg_rss23_75%</th>\n",
       "      <th>var_rss23_mean</th>\n",
       "      <th>var_rss23_25%</th>\n",
       "      <th>var_rss23_75%</th>\n",
       "      <th>label</th>\n",
       "    </tr>\n",
       "  </thead>\n",
       "  <tbody>\n",
       "    <tr>\n",
       "      <th>0</th>\n",
       "      <td>40.6248</td>\n",
       "      <td>39.25</td>\n",
       "      <td>42</td>\n",
       "      <td>0.358604</td>\n",
       "      <td>0</td>\n",
       "      <td>0.5</td>\n",
       "      <td>19.0409</td>\n",
       "      <td>16</td>\n",
       "      <td>23.25</td>\n",
       "      <td>0.832542</td>\n",
       "      <td>0</td>\n",
       "      <td>1.12</td>\n",
       "      <td>34.3113</td>\n",
       "      <td>33</td>\n",
       "      <td>36</td>\n",
       "      <td>0.570583</td>\n",
       "      <td>0</td>\n",
       "      <td>1.3</td>\n",
       "      <td>bending1</td>\n",
       "    </tr>\n",
       "    <tr>\n",
       "      <th>1</th>\n",
       "      <td>42.8128</td>\n",
       "      <td>42</td>\n",
       "      <td>43.67</td>\n",
       "      <td>0.372438</td>\n",
       "      <td>0</td>\n",
       "      <td>0.5</td>\n",
       "      <td>20.097</td>\n",
       "      <td>19</td>\n",
       "      <td>22.25</td>\n",
       "      <td>0.876438</td>\n",
       "      <td>0</td>\n",
       "      <td>1.145</td>\n",
       "      <td>33.0246</td>\n",
       "      <td>32</td>\n",
       "      <td>34.5</td>\n",
       "      <td>0.571083</td>\n",
       "      <td>0</td>\n",
       "      <td>1.3</td>\n",
       "      <td>bending1</td>\n",
       "    </tr>\n",
       "    <tr>\n",
       "      <th>2</th>\n",
       "      <td>43.9545</td>\n",
       "      <td>43</td>\n",
       "      <td>45</td>\n",
       "      <td>0.42625</td>\n",
       "      <td>0</td>\n",
       "      <td>0.5</td>\n",
       "      <td>22.1224</td>\n",
       "      <td>19.75</td>\n",
       "      <td>24</td>\n",
       "      <td>0.497313</td>\n",
       "      <td>0</td>\n",
       "      <td>0.83</td>\n",
       "      <td>35.5885</td>\n",
       "      <td>35.3625</td>\n",
       "      <td>36.5</td>\n",
       "      <td>0.493292</td>\n",
       "      <td>0</td>\n",
       "      <td>0.94</td>\n",
       "      <td>bending1</td>\n",
       "    </tr>\n",
       "    <tr>\n",
       "      <th>3</th>\n",
       "      <td>42.1798</td>\n",
       "      <td>39.15</td>\n",
       "      <td>45</td>\n",
       "      <td>0.696042</td>\n",
       "      <td>0</td>\n",
       "      <td>1.12</td>\n",
       "      <td>22.1836</td>\n",
       "      <td>20.5</td>\n",
       "      <td>24.3725</td>\n",
       "      <td>0.989917</td>\n",
       "      <td>0.43</td>\n",
       "      <td>1.3</td>\n",
       "      <td>33.4939</td>\n",
       "      <td>30.4575</td>\n",
       "      <td>36.33</td>\n",
       "      <td>0.613521</td>\n",
       "      <td>0</td>\n",
       "      <td>1</td>\n",
       "      <td>bending1</td>\n",
       "    </tr>\n",
       "    <tr>\n",
       "      <th>4</th>\n",
       "      <td>41.6781</td>\n",
       "      <td>41.33</td>\n",
       "      <td>42.75</td>\n",
       "      <td>0.535979</td>\n",
       "      <td>0.43</td>\n",
       "      <td>0.71</td>\n",
       "      <td>19.0066</td>\n",
       "      <td>16.5</td>\n",
       "      <td>22.0625</td>\n",
       "      <td>0.841875</td>\n",
       "      <td>0.43</td>\n",
       "      <td>1.12</td>\n",
       "      <td>29.8571</td>\n",
       "      <td>28.4575</td>\n",
       "      <td>31.25</td>\n",
       "      <td>0.383292</td>\n",
       "      <td>0</td>\n",
       "      <td>0.5</td>\n",
       "      <td>bending1</td>\n",
       "    </tr>\n",
       "  </tbody>\n",
       "</table>\n",
       "</div>"
      ],
      "text/plain": [
       "  avg_rss12_mean avg_rss12_25% avg_rss12_75% var_rss12_mean var_rss12_25%  \\\n",
       "0        40.6248         39.25            42       0.358604             0   \n",
       "1        42.8128            42         43.67       0.372438             0   \n",
       "2        43.9545            43            45        0.42625             0   \n",
       "3        42.1798         39.15            45       0.696042             0   \n",
       "4        41.6781         41.33         42.75       0.535979          0.43   \n",
       "\n",
       "  var_rss12_75% avg_rss13_mean avg_rss13_25% avg_rss13_75% var_rss13_mean  \\\n",
       "0           0.5        19.0409            16         23.25       0.832542   \n",
       "1           0.5         20.097            19         22.25       0.876438   \n",
       "2           0.5        22.1224         19.75            24       0.497313   \n",
       "3          1.12        22.1836          20.5       24.3725       0.989917   \n",
       "4          0.71        19.0066          16.5       22.0625       0.841875   \n",
       "\n",
       "  var_rss13_25% var_rss13_75% avg_rss23_mean avg_rss23_25% avg_rss23_75%  \\\n",
       "0             0          1.12        34.3113            33            36   \n",
       "1             0         1.145        33.0246            32          34.5   \n",
       "2             0          0.83        35.5885       35.3625          36.5   \n",
       "3          0.43           1.3        33.4939       30.4575         36.33   \n",
       "4          0.43          1.12        29.8571       28.4575         31.25   \n",
       "\n",
       "  var_rss23_mean var_rss23_25% var_rss23_75%     label  \n",
       "0       0.570583             0           1.3  bending1  \n",
       "1       0.571083             0           1.3  bending1  \n",
       "2       0.493292             0          0.94  bending1  \n",
       "3       0.613521             0             1  bending1  \n",
       "4       0.383292             0           0.5  bending1  "
      ]
     },
     "execution_count": 81,
     "metadata": {},
     "output_type": "execute_result"
    }
   ],
   "source": [
    "df2=df1[newfeatures]\n",
    "df2.head()"
   ]
  },
  {
   "cell_type": "markdown",
   "metadata": {},
   "source": [
    "### Features extracted from time series 1, 2, and 6"
   ]
  },
  {
   "cell_type": "code",
   "execution_count": 82,
   "metadata": {},
   "outputs": [
    {
     "data": {
      "text/plain": [
       "['avg_rss12_mean',\n",
       " 'avg_rss12_25%',\n",
       " 'avg_rss12_75%',\n",
       " 'var_rss12_mean',\n",
       " 'var_rss12_25%',\n",
       " 'var_rss12_75%',\n",
       " 'var_rss23_mean',\n",
       " 'var_rss23_25%',\n",
       " 'var_rss23_75%',\n",
       " 'label']"
      ]
     },
     "execution_count": 82,
     "metadata": {},
     "output_type": "execute_result"
    }
   ],
   "source": [
    "feature126=[]\n",
    "for i in df.columns.values[[1,2,6]]:\n",
    "    for j in newfeaturelist:\n",
    "        feature126.append(i+\"_\"+j)\n",
    "feature126.append('label')\n",
    "feature126"
   ]
  },
  {
   "cell_type": "code",
   "execution_count": 18,
   "metadata": {},
   "outputs": [
    {
     "data": {
      "text/html": [
       "<div>\n",
       "<style>\n",
       "    .dataframe thead tr:only-child th {\n",
       "        text-align: right;\n",
       "    }\n",
       "\n",
       "    .dataframe thead th {\n",
       "        text-align: left;\n",
       "    }\n",
       "\n",
       "    .dataframe tbody tr th {\n",
       "        vertical-align: top;\n",
       "    }\n",
       "</style>\n",
       "<table border=\"1\" class=\"dataframe\">\n",
       "  <thead>\n",
       "    <tr style=\"text-align: right;\">\n",
       "      <th></th>\n",
       "      <th>avg_rss12_mean</th>\n",
       "      <th>avg_rss12_25%</th>\n",
       "      <th>avg_rss12_75%</th>\n",
       "      <th>var_rss12_mean</th>\n",
       "      <th>var_rss12_25%</th>\n",
       "      <th>var_rss12_75%</th>\n",
       "      <th>var_rss23_mean</th>\n",
       "      <th>var_rss23_25%</th>\n",
       "      <th>var_rss23_75%</th>\n",
       "      <th>label</th>\n",
       "    </tr>\n",
       "  </thead>\n",
       "  <tbody>\n",
       "    <tr>\n",
       "      <th>count</th>\n",
       "      <td>88.000000</td>\n",
       "      <td>88.0</td>\n",
       "      <td>88.0</td>\n",
       "      <td>88.000000</td>\n",
       "      <td>88.0</td>\n",
       "      <td>88.0</td>\n",
       "      <td>88.000000</td>\n",
       "      <td>88.00</td>\n",
       "      <td>88.00</td>\n",
       "      <td>88</td>\n",
       "    </tr>\n",
       "    <tr>\n",
       "      <th>unique</th>\n",
       "      <td>81.000000</td>\n",
       "      <td>48.0</td>\n",
       "      <td>47.0</td>\n",
       "      <td>81.000000</td>\n",
       "      <td>22.0</td>\n",
       "      <td>38.0</td>\n",
       "      <td>82.000000</td>\n",
       "      <td>27.00</td>\n",
       "      <td>40.00</td>\n",
       "      <td>7</td>\n",
       "    </tr>\n",
       "    <tr>\n",
       "      <th>top</th>\n",
       "      <td>27.716375</td>\n",
       "      <td>42.0</td>\n",
       "      <td>45.0</td>\n",
       "      <td>0.363688</td>\n",
       "      <td>0.0</td>\n",
       "      <td>0.5</td>\n",
       "      <td>0.734271</td>\n",
       "      <td>0.43</td>\n",
       "      <td>0.83</td>\n",
       "      <td>lying</td>\n",
       "    </tr>\n",
       "    <tr>\n",
       "      <th>freq</th>\n",
       "      <td>3.000000</td>\n",
       "      <td>8.0</td>\n",
       "      <td>7.0</td>\n",
       "      <td>3.000000</td>\n",
       "      <td>41.0</td>\n",
       "      <td>38.0</td>\n",
       "      <td>2.000000</td>\n",
       "      <td>25.00</td>\n",
       "      <td>11.00</td>\n",
       "      <td>15</td>\n",
       "    </tr>\n",
       "  </tbody>\n",
       "</table>\n",
       "</div>"
      ],
      "text/plain": [
       "        avg_rss12_mean  avg_rss12_25%  avg_rss12_75%  var_rss12_mean  \\\n",
       "count        88.000000           88.0           88.0       88.000000   \n",
       "unique       81.000000           48.0           47.0       81.000000   \n",
       "top          27.716375           42.0           45.0        0.363688   \n",
       "freq          3.000000            8.0            7.0        3.000000   \n",
       "\n",
       "        var_rss12_25%  var_rss12_75%  var_rss23_mean  var_rss23_25%  \\\n",
       "count            88.0           88.0       88.000000          88.00   \n",
       "unique           22.0           38.0       82.000000          27.00   \n",
       "top               0.0            0.5        0.734271           0.43   \n",
       "freq             41.0           38.0        2.000000          25.00   \n",
       "\n",
       "        var_rss23_75%  label  \n",
       "count           88.00     88  \n",
       "unique          40.00      7  \n",
       "top              0.83  lying  \n",
       "freq            11.00     15  "
      ]
     },
     "execution_count": 18,
     "metadata": {},
     "output_type": "execute_result"
    }
   ],
   "source": [
    "df3=df2[feature126]\n",
    "df3.describe()"
   ]
  },
  {
   "cell_type": "code",
   "execution_count": 65,
   "metadata": {
    "collapsed": true
   },
   "outputs": [],
   "source": [
    "dftest=pd.DataFrame(columns=feature126)\n",
    "for i in folderlist:\n",
    "    if 'bending' in i:\n",
    "        dftest=dftest.append(df3[df3.label == i][:2])\n",
    "    else:\n",
    "        dftest=dftest.append(df3[df3.label == i][:3])\n",
    "dftrain = df3.drop(list(dftest.index.values))\n",
    "dftrain=dftrain.reset_index(drop=True)\n",
    "dftest=dftest.reset_index(drop=True)    "
   ]
  },
  {
   "cell_type": "code",
   "execution_count": 66,
   "metadata": {},
   "outputs": [
    {
     "data": {
      "text/html": [
       "<div>\n",
       "<style>\n",
       "    .dataframe thead tr:only-child th {\n",
       "        text-align: right;\n",
       "    }\n",
       "\n",
       "    .dataframe thead th {\n",
       "        text-align: left;\n",
       "    }\n",
       "\n",
       "    .dataframe tbody tr th {\n",
       "        vertical-align: top;\n",
       "    }\n",
       "</style>\n",
       "<table border=\"1\" class=\"dataframe\">\n",
       "  <thead>\n",
       "    <tr style=\"text-align: right;\">\n",
       "      <th></th>\n",
       "      <th>avg_rss12_mean</th>\n",
       "      <th>avg_rss12_25%</th>\n",
       "      <th>avg_rss12_75%</th>\n",
       "      <th>var_rss12_mean</th>\n",
       "      <th>var_rss12_25%</th>\n",
       "      <th>var_rss12_75%</th>\n",
       "      <th>var_rss23_mean</th>\n",
       "      <th>var_rss23_25%</th>\n",
       "      <th>var_rss23_75%</th>\n",
       "      <th>label</th>\n",
       "    </tr>\n",
       "  </thead>\n",
       "  <tbody>\n",
       "    <tr>\n",
       "      <th>0</th>\n",
       "      <td>40.624792</td>\n",
       "      <td>39.25</td>\n",
       "      <td>42.00</td>\n",
       "      <td>0.358604</td>\n",
       "      <td>0.00</td>\n",
       "      <td>0.50</td>\n",
       "      <td>0.570583</td>\n",
       "      <td>0.0</td>\n",
       "      <td>1.30</td>\n",
       "      <td>bending</td>\n",
       "    </tr>\n",
       "    <tr>\n",
       "      <th>1</th>\n",
       "      <td>42.812812</td>\n",
       "      <td>42.00</td>\n",
       "      <td>43.67</td>\n",
       "      <td>0.372438</td>\n",
       "      <td>0.00</td>\n",
       "      <td>0.50</td>\n",
       "      <td>0.571083</td>\n",
       "      <td>0.0</td>\n",
       "      <td>1.30</td>\n",
       "      <td>bending</td>\n",
       "    </tr>\n",
       "    <tr>\n",
       "      <th>2</th>\n",
       "      <td>43.954500</td>\n",
       "      <td>43.00</td>\n",
       "      <td>45.00</td>\n",
       "      <td>0.426250</td>\n",
       "      <td>0.00</td>\n",
       "      <td>0.50</td>\n",
       "      <td>0.493292</td>\n",
       "      <td>0.0</td>\n",
       "      <td>0.94</td>\n",
       "      <td>bending</td>\n",
       "    </tr>\n",
       "    <tr>\n",
       "      <th>3</th>\n",
       "      <td>42.179813</td>\n",
       "      <td>39.15</td>\n",
       "      <td>45.00</td>\n",
       "      <td>0.696042</td>\n",
       "      <td>0.00</td>\n",
       "      <td>1.12</td>\n",
       "      <td>0.613521</td>\n",
       "      <td>0.0</td>\n",
       "      <td>1.00</td>\n",
       "      <td>bending</td>\n",
       "    </tr>\n",
       "    <tr>\n",
       "      <th>4</th>\n",
       "      <td>41.678063</td>\n",
       "      <td>41.33</td>\n",
       "      <td>42.75</td>\n",
       "      <td>0.535979</td>\n",
       "      <td>0.43</td>\n",
       "      <td>0.71</td>\n",
       "      <td>0.383292</td>\n",
       "      <td>0.0</td>\n",
       "      <td>0.50</td>\n",
       "      <td>bending</td>\n",
       "    </tr>\n",
       "  </tbody>\n",
       "</table>\n",
       "</div>"
      ],
      "text/plain": [
       "   avg_rss12_mean  avg_rss12_25%  avg_rss12_75%  var_rss12_mean  \\\n",
       "0       40.624792          39.25          42.00        0.358604   \n",
       "1       42.812812          42.00          43.67        0.372438   \n",
       "2       43.954500          43.00          45.00        0.426250   \n",
       "3       42.179813          39.15          45.00        0.696042   \n",
       "4       41.678063          41.33          42.75        0.535979   \n",
       "\n",
       "   var_rss12_25%  var_rss12_75%  var_rss23_mean  var_rss23_25%  var_rss23_75%  \\\n",
       "0           0.00           0.50        0.570583            0.0           1.30   \n",
       "1           0.00           0.50        0.571083            0.0           1.30   \n",
       "2           0.00           0.50        0.493292            0.0           0.94   \n",
       "3           0.00           1.12        0.613521            0.0           1.00   \n",
       "4           0.43           0.71        0.383292            0.0           0.50   \n",
       "\n",
       "     label  \n",
       "0  bending  \n",
       "1  bending  \n",
       "2  bending  \n",
       "3  bending  \n",
       "4  bending  "
      ]
     },
     "execution_count": 66,
     "metadata": {},
     "output_type": "execute_result"
    }
   ],
   "source": [
    "dftrain.head()"
   ]
  },
  {
   "cell_type": "markdown",
   "metadata": {},
   "source": [
    "## Combining full time series"
   ]
  },
  {
   "cell_type": "code",
   "execution_count": 21,
   "metadata": {
    "collapsed": true
   },
   "outputs": [],
   "source": [
    "folderlist=os.listdir('data')\n",
    "df_fulltrain=pd.DataFrame()\n",
    "df_fulltest=pd.DataFrame()\n",
    "k=0\n",
    "for folder in folderlist:\n",
    "    #print(folder)\n",
    "    files=os.listdir('data/'+folder)\n",
    "    files.sort(key=natural_keys)\n",
    "    #print(files)\n",
    "    df_train=pd.DataFrame()\n",
    "    df_test=pd.DataFrame()\n",
    "    for datafile in files:\n",
    "        featureval=[]\n",
    "        #print (datafile)\n",
    "        df = pd.read_csv('data/'+folder+'/'+datafile, header=4)\n",
    "        if ( datafile == \"dataset2.csv\" or datafile == \"dataset1.csv\" or datafile == \"dataset3.csv\"):\n",
    "            if(folder==\"bending1\" or folder ==\"bending2\"):\n",
    "                if (datafile==\"dataset3.csv\"):\n",
    "                    df[\"label\"]=folder\n",
    "                    df_train=df_train.append(df)\n",
    "                else:\n",
    "                    df[\"label\"]=folder\n",
    "                    df_test=df_test.append(df)\n",
    "            else: \n",
    "                df[\"label\"]=folder\n",
    "                df_test=df_test.append(df)\n",
    "        else:\n",
    "            df[\"label\"]=folder\n",
    "            df_train=df_train.append(df)\n",
    "            \n",
    "    df_fulltrain=df_fulltrain.append(df_train)\n",
    "    df_fulltest=df_fulltest.append(df_test)\n"
   ]
  },
  {
   "cell_type": "code",
   "execution_count": 22,
   "metadata": {
    "collapsed": true
   },
   "outputs": [],
   "source": [
    "df_fulltrain=df_fulltrain.reset_index(drop=True)\n",
    "df_fulltest=df_fulltest.reset_index(drop=True)"
   ]
  },
  {
   "cell_type": "code",
   "execution_count": 98,
   "metadata": {},
   "outputs": [
    {
     "data": {
      "text/html": [
       "<div>\n",
       "<style>\n",
       "    .dataframe thead tr:only-child th {\n",
       "        text-align: right;\n",
       "    }\n",
       "\n",
       "    .dataframe thead th {\n",
       "        text-align: left;\n",
       "    }\n",
       "\n",
       "    .dataframe tbody tr th {\n",
       "        vertical-align: top;\n",
       "    }\n",
       "</style>\n",
       "<table border=\"1\" class=\"dataframe\">\n",
       "  <thead>\n",
       "    <tr style=\"text-align: right;\">\n",
       "      <th></th>\n",
       "      <th># Columns: time</th>\n",
       "      <th>avg_rss12</th>\n",
       "      <th>var_rss12</th>\n",
       "      <th>avg_rss13</th>\n",
       "      <th>var_rss13</th>\n",
       "      <th>avg_rss23</th>\n",
       "      <th>var_rss23</th>\n",
       "    </tr>\n",
       "  </thead>\n",
       "  <tbody>\n",
       "    <tr>\n",
       "      <th>count</th>\n",
       "      <td>33120.000000</td>\n",
       "      <td>33120.000000</td>\n",
       "      <td>33120.000000</td>\n",
       "      <td>33120.000000</td>\n",
       "      <td>33120.000000</td>\n",
       "      <td>33120.000000</td>\n",
       "      <td>33120.000000</td>\n",
       "    </tr>\n",
       "    <tr>\n",
       "      <th>mean</th>\n",
       "      <td>59875.000000</td>\n",
       "      <td>39.005375</td>\n",
       "      <td>1.510162</td>\n",
       "      <td>14.166451</td>\n",
       "      <td>1.505288</td>\n",
       "      <td>15.669726</td>\n",
       "      <td>1.644087</td>\n",
       "    </tr>\n",
       "    <tr>\n",
       "      <th>std</th>\n",
       "      <td>34641.463948</td>\n",
       "      <td>5.986590</td>\n",
       "      <td>2.082418</td>\n",
       "      <td>5.346525</td>\n",
       "      <td>1.648239</td>\n",
       "      <td>6.287250</td>\n",
       "      <td>1.646946</td>\n",
       "    </tr>\n",
       "    <tr>\n",
       "      <th>min</th>\n",
       "      <td>0.000000</td>\n",
       "      <td>0.000000</td>\n",
       "      <td>0.000000</td>\n",
       "      <td>0.000000</td>\n",
       "      <td>0.000000</td>\n",
       "      <td>0.000000</td>\n",
       "      <td>0.000000</td>\n",
       "    </tr>\n",
       "    <tr>\n",
       "      <th>25%</th>\n",
       "      <td>29937.500000</td>\n",
       "      <td>35.250000</td>\n",
       "      <td>0.430000</td>\n",
       "      <td>11.500000</td>\n",
       "      <td>0.430000</td>\n",
       "      <td>12.000000</td>\n",
       "      <td>0.470000</td>\n",
       "    </tr>\n",
       "    <tr>\n",
       "      <th>50%</th>\n",
       "      <td>59875.000000</td>\n",
       "      <td>39.670000</td>\n",
       "      <td>0.500000</td>\n",
       "      <td>14.750000</td>\n",
       "      <td>0.830000</td>\n",
       "      <td>15.670000</td>\n",
       "      <td>1.000000</td>\n",
       "    </tr>\n",
       "    <tr>\n",
       "      <th>75%</th>\n",
       "      <td>89812.500000</td>\n",
       "      <td>43.500000</td>\n",
       "      <td>1.920000</td>\n",
       "      <td>18.000000</td>\n",
       "      <td>2.290000</td>\n",
       "      <td>18.750000</td>\n",
       "      <td>2.380000</td>\n",
       "    </tr>\n",
       "    <tr>\n",
       "      <th>max</th>\n",
       "      <td>119750.000000</td>\n",
       "      <td>56.250000</td>\n",
       "      <td>17.240000</td>\n",
       "      <td>32.750000</td>\n",
       "      <td>11.420000</td>\n",
       "      <td>40.330000</td>\n",
       "      <td>13.610000</td>\n",
       "    </tr>\n",
       "  </tbody>\n",
       "</table>\n",
       "</div>"
      ],
      "text/plain": [
       "       # Columns: time     avg_rss12     var_rss12     avg_rss13  \\\n",
       "count     33120.000000  33120.000000  33120.000000  33120.000000   \n",
       "mean      59875.000000     39.005375      1.510162     14.166451   \n",
       "std       34641.463948      5.986590      2.082418      5.346525   \n",
       "min           0.000000      0.000000      0.000000      0.000000   \n",
       "25%       29937.500000     35.250000      0.430000     11.500000   \n",
       "50%       59875.000000     39.670000      0.500000     14.750000   \n",
       "75%       89812.500000     43.500000      1.920000     18.000000   \n",
       "max      119750.000000     56.250000     17.240000     32.750000   \n",
       "\n",
       "          var_rss13     avg_rss23     var_rss23  \n",
       "count  33120.000000  33120.000000  33120.000000  \n",
       "mean       1.505288     15.669726      1.644087  \n",
       "std        1.648239      6.287250      1.646946  \n",
       "min        0.000000      0.000000      0.000000  \n",
       "25%        0.430000     12.000000      0.470000  \n",
       "50%        0.830000     15.670000      1.000000  \n",
       "75%        2.290000     18.750000      2.380000  \n",
       "max       11.420000     40.330000     13.610000  "
      ]
     },
     "execution_count": 98,
     "metadata": {},
     "output_type": "execute_result"
    }
   ],
   "source": [
    "df_fulltrain.describe()"
   ]
  },
  {
   "cell_type": "markdown",
   "metadata": {},
   "source": [
    "## (d) Binary Classification Using Logistic Regression\n"
   ]
  },
  {
   "cell_type": "markdown",
   "metadata": {},
   "source": [
    "(i) Depict scatter plots of the features you specified in 1(c)iv extracted from time series 1, 2, and 6 of\n",
    "each instance, and use color to distinguish bending vs. other activities."
   ]
  },
  {
   "cell_type": "code",
   "execution_count": 23,
   "metadata": {
    "collapsed": true
   },
   "outputs": [],
   "source": [
    "df3=df3.replace(['bending1', 'bending2', 'cycling', 'lying', 'sitting', 'standing','walking'],['bending', 'bending', 'notbending', 'notbending', 'notbending', 'notbending','notbending'])\n",
    "#df2=df2.replace(['bending1', 'bending2', 'cycling', 'lying', 'sitting', 'standing','walking'],['bending', 'bending', 'notbending', 'notbending', 'notbending', 'notbending','notbending'])"
   ]
  },
  {
   "cell_type": "code",
   "execution_count": null,
   "metadata": {
    "collapsed": true
   },
   "outputs": [],
   "source": []
  },
  {
   "cell_type": "code",
   "execution_count": 28,
   "metadata": {},
   "outputs": [
    {
     "data": {
      "image/png": "[encoded data removed]",
      "text/plain": [
       "<matplotlib.figure.Figure at 0x1422a07b198>"
      ]
     },
     "metadata": {},
     "output_type": "display_data"
    }
   ],
   "source": [
    "dfplt=pd.melt(df3,id_vars='label',value_vars=feature126[:-1])\n",
    "plt.figure(num=None, figsize=(15, 8), dpi=80, facecolor='w', edgecolor='k')\n",
    "sb.swarmplot(x='variable',y='value',hue='label',size=5,data=dfplt,dodge=True)\n",
    "plt.show()"
   ]
  },
  {
   "cell_type": "code",
   "execution_count": 101,
   "metadata": {
    "collapsed": true
   },
   "outputs": [],
   "source": [
    "dftrainl=dftrain\n",
    "dftestl=dftest"
   ]
  },
  {
   "cell_type": "code",
   "execution_count": 102,
   "metadata": {
    "collapsed": true
   },
   "outputs": [],
   "source": [
    "dftrainl=dftrainl.replace(['bending1', 'bending2', 'cycling', 'lying', 'sitting', 'standing',\n",
    "       'walking'],['bending', 'bending', 'notbending', 'notbending', 'notbending', 'notbending',\n",
    "       'notbending'])\n",
    "dftestl=dftestl.replace(['bending1', 'bending2', 'cycling', 'lying', 'sitting', 'standing',\n",
    "       'walking'],['bending', 'bending', 'notbending', 'notbending', 'notbending', 'notbending',\n",
    "       'notbending'])"
   ]
  },
  {
   "cell_type": "code",
   "execution_count": 33,
   "metadata": {
    "collapsed": true
   },
   "outputs": [],
   "source": [
    "def keylist(setsize,L):\n",
    "    listall=[]\n",
    "    for i in range(0,setsize,1):\n",
    "        listall.append(range(i*480,((i+1)*480)))\n",
    "    listL=[]\n",
    "    for i in listall:\n",
    "        listL.extend(np.array_split(np.array(i), L))\n",
    "    return listL;"
   ]
  },
  {
   "cell_type": "code",
   "execution_count": 34,
   "metadata": {
    "collapsed": true
   },
   "outputs": [],
   "source": [
    "def df_Lsplit(passdf,L):\n",
    "    splits=keylist(int(passdf.shape[0]/480),L)\n",
    "    dfnew=pd.DataFrame(columns=newfeatures)\n",
    "    splitcol=['avg_rss12', 'var_rss12', 'avg_rss13', 'var_rss13', 'avg_rss23','var_rss23']\n",
    "    k=0\n",
    "    for i in splits:\n",
    "        split=passdf.iloc[i]\n",
    "        desc=split.describe()\n",
    "        featureval=[]\n",
    "        for column in splitcol:\n",
    "            values=desc.loc[newfeaturelist][column]\n",
    "            featureval+=(list(values))\n",
    "        featureval.append(split.label.unique()[0])\n",
    "        dfnew.loc[k]=featureval\n",
    "        k=k+1\n",
    "    return dfnew;"
   ]
  },
  {
   "cell_type": "code",
   "execution_count": 110,
   "metadata": {
    "collapsed": true,
    "scrolled": true
   },
   "outputs": [],
   "source": [
    "df4=df_Lsplit(df_fulltrain,2)\n",
    "df4=df4.replace(['bending1', 'bending2', 'cycling', 'lying', 'sitting', 'standing',\n",
    "       'walking'],['bending', 'bending', 'notbending', 'notbending', 'notbending', 'notbending',\n",
    "       'notbending'])\n",
    "dfplt=pd.melt(df4[feature126],id_vars='label',value_vars=feature126[:-1])"
   ]
  },
  {
   "cell_type": "code",
   "execution_count": 111,
   "metadata": {},
   "outputs": [
    {
     "data": {
      "image/png": "[encoded data removed]",
      "text/plain": [
       "<matplotlib.figure.Figure at 0x1422a9d0588>"
      ]
     },
     "metadata": {},
     "output_type": "display_data"
    }
   ],
   "source": [
    "plt.figure(num=None, figsize=(15, 8), dpi=80, facecolor='w', edgecolor='k')\n",
    "sb.swarmplot(x='variable',y='value',hue='label',size=5,data=dfplt,dodge=True)\n",
    "plt.show()"
   ]
  },
  {
   "cell_type": "markdown",
   "metadata": {},
   "source": [
    "### There are more instances which help us get a better idea of the actual distribution, outliers  "
   ]
  },
  {
   "cell_type": "code",
   "execution_count": 112,
   "metadata": {
    "collapsed": true
   },
   "outputs": [],
   "source": [
    "#dftrainl=dftrainl.replace(['bending','notbending'],['0','1'])\n",
    "dftrainl=dftrainl[newfeatures]\n",
    "dftestl=dftestl[newfeatures]"
   ]
  },
  {
   "cell_type": "code",
   "execution_count": 113,
   "metadata": {
    "collapsed": true
   },
   "outputs": [],
   "source": [
    "df_l1=df_Lsplit(df_fulltrain,1).replace(['bending1', 'bending2', 'cycling', 'lying', 'sitting', 'standing',\n",
    "       'walking'],[0,0,1,1,1,1,1])"
   ]
  },
  {
   "cell_type": "code",
   "execution_count": 257,
   "metadata": {},
   "outputs": [
    {
     "data": {
      "text/plain": [
       "LogisticRegression(C=100000, class_weight=None, dual=False,\n",
       "          fit_intercept=True, intercept_scaling=1, max_iter=100,\n",
       "          multi_class='ovr', n_jobs=1, penalty='l2', random_state=None,\n",
       "          solver='liblinear', tol=0.0001, verbose=0, warm_start=False)"
      ]
     },
     "execution_count": 257,
     "metadata": {},
     "output_type": "execute_result"
    }
   ],
   "source": [
    "logreg = linear_model.LogisticRegression(C=100000)\n",
    "logreg.fit(df_l1[newfeatures[:-1]], df_l1['label'])"
   ]
  },
  {
   "cell_type": "markdown",
   "metadata": {},
   "source": [
    "## Wrong way\n",
    "\n",
    "* CV only after feature selection is done and not including features\n",
    "\n",
    "\n",
    "## Correct way to cross validate\n",
    "\n",
    "* Cross validate both before selecting the predictors and while classification using them\n",
    "\n"
   ]
  },
  {
   "cell_type": "code",
   "execution_count": 124,
   "metadata": {},
   "outputs": [
    {
     "name": "stdout",
     "output_type": "stream",
     "text": [
      "Round:1\n",
      "Score :0.785714285714\n",
      "Round:2\n",
      "Score :0.857142857143\n",
      "Round:3\n",
      "Score :0.928571428571\n",
      "Round:4\n",
      "Score :0.857142857143\n",
      "Round:5\n",
      "Score :1.0\n",
      ".................................Average score for L=1 is  0.885714285714\n",
      "Round:1\n",
      "Score :0.857142857143\n",
      "Round:2\n",
      "Score :0.857142857143\n",
      "Round:3\n",
      "Score :0.892857142857\n",
      "Round:4\n",
      "Score :0.925925925926\n",
      "Round:5\n",
      "Score :0.777777777778\n",
      ".................................Average score for L=2 is  0.862169312169\n",
      "Round:1\n",
      "Score :0.928571428571\n",
      "Round:2\n",
      "Score :0.833333333333\n",
      "Round:3\n",
      "Score :0.926829268293\n",
      "Round:4\n",
      "Score :0.878048780488\n",
      "Round:5\n",
      "Score :0.951219512195\n",
      ".................................Average score for L=3 is  0.903600464576\n",
      "Round:1\n",
      "Score :1.0\n",
      "Round:2\n",
      "Score :0.890909090909\n",
      "Round:3\n",
      "Score :0.927272727273\n",
      "Round:4\n",
      "Score :0.872727272727\n",
      "Round:5\n",
      "Score :0.945454545455\n",
      ".................................Average score for L=4 is  0.927272727273\n",
      "Round:1\n",
      "Score :0.95652173913\n",
      "Round:2\n",
      "Score :0.971014492754\n",
      "Round:3\n",
      "Score :0.927536231884\n",
      "Round:4\n",
      "Score :0.898550724638\n",
      "Round:5\n",
      "Score :0.95652173913\n",
      ".................................Average score for L=5 is  0.942028985507\n",
      "Round:1\n",
      "Score :0.939759036145\n",
      "Round:2\n",
      "Score :0.963855421687\n",
      "Round:3\n",
      "Score :0.903614457831\n",
      "Round:4\n",
      "Score :0.951807228916\n",
      "Round:5\n",
      "Score :0.951219512195\n",
      ".................................Average score for L=6 is  0.942051131355\n",
      "Round:1\n",
      "Score :0.948453608247\n",
      "Round:2\n",
      "Score :0.958762886598\n",
      "Round:3\n",
      "Score :0.927835051546\n",
      "Round:4\n",
      "Score :0.979166666667\n",
      "Round:5\n",
      "Score :0.885416666667\n",
      ".................................Average score for L=7 is  0.939926975945\n",
      "Round:1\n",
      "Score :0.918918918919\n",
      "Round:2\n",
      "Score :0.936936936937\n",
      "Round:3\n",
      "Score :0.945454545455\n",
      "Round:4\n",
      "Score :0.972727272727\n",
      "Round:5\n",
      "Score :0.963636363636\n",
      ".................................Average score for L=8 is  0.947534807535\n",
      "Round:1\n",
      "Score :0.944\n",
      "Round:2\n",
      "Score :0.959677419355\n",
      "Round:3\n",
      "Score :0.951612903226\n",
      "Round:4\n",
      "Score :0.951612903226\n",
      "Round:5\n",
      "Score :0.927419354839\n",
      ".................................Average score for L=9 is  0.946864516129\n",
      "Round:1\n",
      "Score :0.927536231884\n",
      "Round:2\n",
      "Score :0.949275362319\n",
      "Round:3\n",
      "Score :0.985507246377\n",
      "Round:4\n",
      "Score :0.913043478261\n",
      "Round:5\n",
      "Score :0.963768115942\n",
      ".................................Average score for L=10 is  0.947826086957\n"
     ]
    }
   ],
   "source": [
    "for L in range(1,11):\n",
    "    df_l=df_Lsplit(df_fulltrain,L).replace(['bending1', 'bending2', 'cycling', 'lying', 'sitting', 'standing','walking'],[0,0,1,1,1,1,1])\n",
    "    rkf = RepeatedKFold(n_splits=5, n_repeats=1, random_state=0)\n",
    "    rep=1\n",
    "    avg=0\n",
    "    for train, test in rkf.split(df_l):\n",
    "        print(\"Round:\"+str(rep))\n",
    "        rep=rep+1\n",
    "        logreg.fit(df_l.loc[train][newfeatures[:-1]],df_l.loc[train].label)\n",
    "        score=logreg.score(df_l.loc[test][newfeatures[:-1]],df_l.loc[test].label.astype(int))\n",
    "        avg+=score\n",
    "        print(\"Score :\"+str(score))\n",
    "        \n",
    "    avg=avg/5\n",
    "    print(\".................................Average score for L=\"+str(L)+\" is  \"+str(avg))\n"
   ]
  },
  {
   "cell_type": "markdown",
   "metadata": {},
   "source": [
    "## Best Values of L from the accuracy are L=10\n",
    "\n",
    "Running on complete training set"
   ]
  },
  {
   "cell_type": "code",
   "execution_count": 180,
   "metadata": {},
   "outputs": [
    {
     "name": "stdout",
     "output_type": "stream",
     "text": [
      "avg_rss12_mean p-value: 0.0399930889869\n",
      "avg_rss12_75% p-value: 0.00402506979073\n",
      "var_rss12_mean p-value: 2.42358847029e-18\n",
      "var_rss12_25% p-value: 3.51576842437e-14\n",
      "var_rss12_75% p-value: 4.54285587269e-23\n",
      "avg_rss13_mean p-value: 4.99114334591e-09\n",
      "avg_rss13_25% p-value: 7.5833103949e-09\n",
      "avg_rss13_75% p-value: 4.7399297579e-10\n",
      "var_rss13_mean p-value: 7.181583668e-10\n",
      "var_rss13_25% p-value: 2.03905480891e-10\n",
      "var_rss13_75% p-value: 1.33016356719e-12\n",
      "avg_rss23_mean p-value: 6.23715744555e-100\n",
      "avg_rss23_25% p-value: 1.11381866983e-117\n",
      "avg_rss23_75% p-value: 3.91491798296e-84\n",
      "var_rss23_mean p-value: 1.72618876205e-12\n",
      "var_rss23_25% p-value: 3.6657551421e-11\n",
      "var_rss23_75% p-value: 8.60543819503e-15\n"
     ]
    }
   ],
   "source": [
    "selected_features=[]\n",
    "df_l=df_Lsplit(df_fulltrain,10).replace(['bending1', 'bending2', 'cycling', 'lying', 'sitting', 'standing','walking'],[0,0,1,1,1,1,1])\n",
    "logit = chi2(df_l[newfeatures[:-1]],df_l.label)\n",
    "for i in range(len(logit[1])):\n",
    "    if logit[1][i] < 0.05:\n",
    "        print(df_l.columns[i]+\" p-value: \"+str(logit[1][i]))\n",
    "        selected_features.append(df_l.columns[i])\n",
    "selected_features.append(\"label\")"
   ]
  },
  {
   "cell_type": "code",
   "execution_count": 154,
   "metadata": {
    "collapsed": true
   },
   "outputs": [],
   "source": [
    "#selected_features=['var_rss12_75%','avg_rss23_mean','avg_rss23_25%','avg_rss23_75%','label']\n",
    "df_select=df_l[selected_features]"
   ]
  },
  {
   "cell_type": "code",
   "execution_count": 155,
   "metadata": {},
   "outputs": [
    {
     "data": {
      "text/plain": [
       "LogisticRegression(C=100000, class_weight=None, dual=False,\n",
       "          fit_intercept=True, intercept_scaling=1, max_iter=100,\n",
       "          multi_class='ovr', n_jobs=1, penalty='l2', random_state=None,\n",
       "          solver='liblinear', tol=0.0001, verbose=0, warm_start=False)"
      ]
     },
     "execution_count": 155,
     "metadata": {},
     "output_type": "execute_result"
    }
   ],
   "source": [
    "logreg.fit(df_select[selected_features[:-1]], df_select['label'])"
   ]
  },
  {
   "cell_type": "code",
   "execution_count": 156,
   "metadata": {},
   "outputs": [
    {
     "name": "stdout",
     "output_type": "stream",
     "text": [
      "Round:1\n",
      "Score :0.942028985507\n",
      "Round:2\n",
      "Score :0.949275362319\n",
      "Round:3\n",
      "Score :0.978260869565\n",
      "Round:4\n",
      "Score :0.913043478261\n",
      "Round:5\n",
      "Score :0.963768115942\n",
      "0.949275362319\n"
     ]
    }
   ],
   "source": [
    "rkf = RepeatedKFold(n_splits=5, n_repeats=1, random_state=0)\n",
    "rep=1\n",
    "avg=0\n",
    "for train, test in rkf.split(df_select):\n",
    "    print(\"Round:\"+str(rep))\n",
    "    rep=rep+1\n",
    "    logreg.fit(df_select.loc[train][selected_features[:-1]],df_select.loc[train].label)\n",
    "    score=logreg.score(df_select.loc[test][selected_features[:-1]],df_select.loc[test].label.astype(int))\n",
    "    avg+=score\n",
    "    print(\"Score :\"+str(score))\n",
    "avg=avg/5\n",
    "print(avg)"
   ]
  },
  {
   "cell_type": "code",
   "execution_count": 158,
   "metadata": {
    "collapsed": true
   },
   "outputs": [],
   "source": [
    "logreg.fit(df_select[selected_features[:-1]],df_select.label)\n",
    "y_pred=logreg.predict(df_select[selected_features[:-1]])"
   ]
  },
  {
   "cell_type": "code",
   "execution_count": 161,
   "metadata": {},
   "outputs": [
    {
     "name": "stdout",
     "output_type": "stream",
     "text": [
      "[[ 73  17]\n",
      " [ 10 590]]\n"
     ]
    }
   ],
   "source": [
    "cm = confusion_matrix(df_select.label,y_pred)\n",
    "print(cm)"
   ]
  },
  {
   "cell_type": "markdown",
   "metadata": {},
   "source": [
    "*true positive  | false negative*\n",
    "\n",
    "*false positive | true negative*\n",
    "### Total 690 instances\n",
    "#### out of 90 instances of bending 73 were predicted correctly and 17 was misclassified\n",
    "#### out of 600 instances of notbending 10 were misclassified and 590 were classified correctly."
   ]
  },
  {
   "cell_type": "code",
   "execution_count": 211,
   "metadata": {
    "collapsed": true
   },
   "outputs": [],
   "source": [
    "logit2 = chi2(df_select[selected_features[:-1]],df_select.label)"
   ]
  },
  {
   "cell_type": "code",
   "execution_count": 227,
   "metadata": {
    "scrolled": true
   },
   "outputs": [
    {
     "name": "stdout",
     "output_type": "stream",
     "text": [
      "the AUC for the given curve is  0.984074074074 \n",
      "\n",
      "The coeffecients of the model are [[ 0.35644523 -0.06054905  2.47478531  2.25427065 -0.18822129 -0.65837997\n",
      "   0.45879998  0.32319276 -5.85321496  3.5819255   2.46752573 -2.0546381\n",
      "   0.67155492  0.74196049 -1.45267538  2.64694622 -0.86020483]] \n",
      "\n",
      "The associated p values are [  3.99930890e-002   4.02506979e-003   2.42358847e-018   3.51576842e-014\n",
      "   4.54285587e-023   4.99114335e-009   7.58331039e-009   4.73992976e-010\n",
      "   7.18158367e-010   2.03905481e-010   1.33016357e-012   6.23715745e-100\n",
      "   1.11381867e-117   3.91491798e-084   1.72618876e-012   3.66575514e-011\n",
      "   8.60543820e-015] \n",
      "\n"
     ]
    }
   ],
   "source": [
    "prob = logreg.predict_proba(df_select[selected_features[:-1]])\n",
    "False_Positive_rate, True_Positive_rate, _ = metrics.roc_curve(df_select.label,prob[:,1])\n",
    "df_c = pd.DataFrame(dict(False_Positive_rate=False_Positive_rate, True_Positive_rate=True_Positive_rate))\n",
    "print(\"the AUC for the given curve is \",metrics.auc(False_Positive_rate,True_Positive_rate),\"\\n\")\n",
    "print(\"The coeffecients of the model are\",logreg.coef_,\"\\n\")\n",
    "print(\"The associated p values are\",logit2[1],\"\\n\")"
   ]
  },
  {
   "cell_type": "code",
   "execution_count": 228,
   "metadata": {},
   "outputs": [
    {
     "data": {
      "image/png": "[encoded data removed]",
      "text/plain": [
       "<matplotlib.figure.Figure at 0x1422edb5278>"
      ]
     },
     "metadata": {},
     "output_type": "display_data"
    },
    {
     "data": {
      "text/plain": [
       "<ggplot: (-9223371950369403171)>"
      ]
     },
     "execution_count": 228,
     "metadata": {},
     "output_type": "execute_result"
    }
   ],
   "source": [
    "ggplot(df_c, aes(x='False_Positive_rate', y='True_Positive_rate'))\\\n",
    "+ geom_line() \\\n",
    "+ geom_abline(linetype='dashed')   "
   ]
  },
  {
   "cell_type": "code",
   "execution_count": 182,
   "metadata": {
    "collapsed": true
   },
   "outputs": [],
   "source": [
    "df_ltest=df_Lsplit(df_fulltest,10).replace(['bending1', 'bending2', 'cycling', 'lying', 'sitting', 'standing','walking'],[0,0,1,1,1,1,1])\n",
    "df_ltest=df_ltest[selected_features]"
   ]
  },
  {
   "cell_type": "code",
   "execution_count": 183,
   "metadata": {
    "collapsed": true
   },
   "outputs": [],
   "source": [
    "y_pred_test=logreg.predict(df_ltest[selected_features[:-1]])"
   ]
  },
  {
   "cell_type": "code",
   "execution_count": 191,
   "metadata": {},
   "outputs": [
    {
     "name": "stdout",
     "output_type": "stream",
     "text": [
      "Accuracy on test set with L = 10 is 0.973684210526\n"
     ]
    }
   ],
   "source": [
    "scores= metrics.accuracy_score(df_ltest.label,y_pred_test)\n",
    "print(\"Accuracy on test set with L = 10 is\",scores)"
   ]
  },
  {
   "cell_type": "markdown",
   "metadata": {},
   "source": [
    "### Test accuracy compared to CV is much better at 97.37% compared to 94.7%"
   ]
  },
  {
   "cell_type": "markdown",
   "metadata": {},
   "source": [
    "## Separation\n",
    "The more predictors are in the model, the more likely separation is to occur because the individual groups in the data have smaller sample sizes.\n",
    "\n",
    "Essentially, separation occurs when there is a category or range of a predictor with only one value of the response. We need diversity, or variation among the response to estimate the model. "
   ]
  },
  {
   "cell_type": "markdown",
   "metadata": {},
   "source": [
    "## Imbalance\n",
    "\n",
    "Although for L=10, I have 90 values for **bending** but it still is less compared to 600 **notbending**.\n",
    "Stratified Sampling is the solution to this."
   ]
  },
  {
   "cell_type": "code",
   "execution_count": 239,
   "metadata": {
    "collapsed": true
   },
   "outputs": [],
   "source": [
    "#a,b= sklearn.model_selection.train_test_split(df_select,stratify=df_select.label)"
   ]
  },
  {
   "cell_type": "markdown",
   "metadata": {},
   "source": [
    "### We can overcome imbalance by having weighted classes (Balance) as we do not have more data for *bending*\n",
    "#### Another way is Over sampling"
   ]
  },
  {
   "cell_type": "code",
   "execution_count": 254,
   "metadata": {
    "collapsed": true
   },
   "outputs": [],
   "source": [
    "logreg_bal = linear_model.LogisticRegression(C=100000,class_weight ='balanced')"
   ]
  },
  {
   "cell_type": "code",
   "execution_count": 255,
   "metadata": {
    "collapsed": true
   },
   "outputs": [],
   "source": [
    "logreg_bal.fit(df_select[selected_features[:-1]],df_select.label)\n",
    "y_pred=logreg_bal.predict(df_select[selected_features[:-1]])"
   ]
  },
  {
   "cell_type": "code",
   "execution_count": 256,
   "metadata": {},
   "outputs": [
    {
     "name": "stdout",
     "output_type": "stream",
     "text": [
      "0.944927536232\n",
      "[[ 85   5]\n",
      " [ 33 567]]\n"
     ]
    }
   ],
   "source": [
    "cm = confusion_matrix(df_select.label,y_pred)\n",
    "print(metrics.accuracy_score(df_select.label,y_pred))\n",
    "print(cm)"
   ]
  },
  {
   "cell_type": "markdown",
   "metadata": {},
   "source": [
    "### As you can see we now have a balanced error rate for both bending and notbending"
   ]
  },
  {
   "cell_type": "markdown",
   "metadata": {},
   "source": [
    "The “balanced” mode uses the values of y to automatically adjust weights inversely proportional to class frequencies in the input data as n_samples / (n_classes * np.bincount(y))."
   ]
  },
  {
   "cell_type": "markdown",
   "metadata": {},
   "source": [
    "## L1 penalized model"
   ]
  },
  {
   "cell_type": "code",
   "execution_count": 270,
   "metadata": {
    "collapsed": true
   },
   "outputs": [],
   "source": [
    "logreg_l1 = linear_model.LogisticRegression(penalty='l1', solver = 'liblinear' )"
   ]
  },
  {
   "cell_type": "code",
   "execution_count": 447,
   "metadata": {},
   "outputs": [
    {
     "name": "stdout",
     "output_type": "stream",
     "text": [
      "Round:1\n",
      "Score :0.928571428571 C value [ 0.35938137]\n",
      "Round:2\n",
      "Score :0.857142857143 C value [ 0.35938137]\n",
      "Round:3\n",
      "Score :0.928571428571 C value [ 0.35938137]\n",
      "Round:4\n",
      "Score :0.928571428571 C value [ 0.35938137]\n",
      "Round:5\n",
      "Score :1.0 C value [ 0.35938137]\n",
      ".................................Average score for L=1 is  0.928571428571\n",
      "Round:1\n",
      "Score :0.964285714286 C value [ 0.35938137]\n",
      "Round:2\n",
      "Score :0.928571428571 C value [ 0.35938137]\n",
      "Round:3\n",
      "Score :0.928571428571 C value [ 1291.54966501]\n",
      "Round:4\n",
      "Score :1.0 C value [ 0.35938137]\n",
      "Round:5\n",
      "Score :0.851851851852 C value [ 0.35938137]\n",
      ".................................Average score for L=2 is  0.934656084656\n",
      "Round:1\n",
      "Score :0.952380952381 C value [ 0.35938137]\n",
      "Round:2\n",
      "Score :0.880952380952 C value [ 0.35938137]\n",
      "Round:3\n",
      "Score :0.951219512195 C value [ 0.35938137]\n",
      "Round:4\n",
      "Score :0.926829268293 C value [ 0.35938137]\n",
      "Round:5\n",
      "Score :0.975609756098 C value [ 0.35938137]\n",
      ".................................Average score for L=3 is  0.937398373984\n",
      "Round:1\n",
      "Score :0.946428571429 C value [ 0.04641589]\n",
      "Round:2\n",
      "Score :0.927272727273 C value [ 0.35938137]\n",
      "Round:3\n",
      "Score :0.927272727273 C value [ 0.04641589]\n",
      "Round:4\n",
      "Score :0.909090909091 C value [ 0.04641589]\n",
      "Round:5\n",
      "Score :0.945454545455 C value [ 0.04641589]\n",
      ".................................Average score for L=4 is  0.931103896104\n",
      "Round:1\n",
      "Score :0.95652173913 C value [ 0.04641589]\n",
      "Round:2\n",
      "Score :0.95652173913 C value [ 0.04641589]\n",
      "Round:3\n",
      "Score :0.927536231884 C value [ 0.35938137]\n",
      "Round:4\n",
      "Score :0.913043478261 C value [ 0.35938137]\n",
      "Round:5\n",
      "Score :0.927536231884 C value [ 0.04641589]\n",
      ".................................Average score for L=5 is  0.936231884058\n",
      "Round:1\n",
      "Score :0.927710843373 C value [ 0.04641589]\n",
      "Round:2\n",
      "Score :0.975903614458 C value [ 0.04641589]\n",
      "Round:3\n",
      "Score :0.915662650602 C value [ 0.35938137]\n",
      "Round:4\n",
      "Score :0.939759036145 C value [ 0.04641589]\n",
      "Round:5\n",
      "Score :0.939024390244 C value [ 0.35938137]\n",
      ".................................Average score for L=6 is  0.939612106964\n",
      "Round:1\n",
      "Score :0.948453608247 C value [ 0.04641589]\n",
      "Round:2\n",
      "Score :0.948453608247 C value [ 0.04641589]\n",
      "Round:3\n",
      "Score :0.927835051546 C value [ 0.04641589]\n",
      "Round:4\n",
      "Score :0.96875 C value [ 0.35938137]\n",
      "Round:5\n",
      "Score :0.927083333333 C value [ 0.04641589]\n",
      ".................................Average score for L=7 is  0.944115120275\n",
      "Round:1\n",
      "Score :0.936936936937 C value [ 0.04641589]\n",
      "Round:2\n",
      "Score :0.945945945946 C value [ 0.04641589]\n",
      "Round:3\n",
      "Score :0.936363636364 C value [ 0.04641589]\n",
      "Round:4\n",
      "Score :0.963636363636 C value [ 0.04641589]\n",
      "Round:5\n",
      "Score :0.909090909091 C value [ 0.04641589]\n",
      ".................................Average score for L=8 is  0.938394758395\n",
      "Round:1\n",
      "Score :0.936 C value [ 0.04641589]\n",
      "Round:2\n",
      "Score :0.967741935484 C value [ 0.04641589]\n",
      "Round:3\n",
      "Score :0.943548387097 C value [ 0.35938137]\n",
      "Round:4\n",
      "Score :0.935483870968 C value [ 0.04641589]\n",
      "Round:5\n",
      "Score :0.911290322581 C value [ 0.04641589]\n",
      ".................................Average score for L=9 is  0.938812903226\n",
      "Round:1\n",
      "Score :0.920289855072 C value [ 0.04641589]\n",
      "Round:2\n",
      "Score :0.949275362319 C value [ 0.04641589]\n",
      "Round:3\n",
      "Score :0.978260869565 C value [ 0.04641589]\n",
      "Round:4\n",
      "Score :0.920289855072 C value [ 0.04641589]\n",
      "Round:5\n",
      "Score :0.927536231884 C value [ 0.04641589]\n",
      ".................................Average score for L=10 is  0.939130434783\n"
     ]
    }
   ],
   "source": [
    "cs_score=[]\n",
    "for L in range(1,11):\n",
    "    df_l=df_Lsplit(df_fulltrain,L).replace(['bending1', 'bending2', 'cycling', 'lying', 'sitting', 'standing','walking'],[0,0,1,1,1,1,1])\n",
    "    rkf = RepeatedKFold(n_splits=5, n_repeats=1, random_state=0)\n",
    "    rep=1\n",
    "    avg=0\n",
    "    for train, test in rkf.split(df_l):\n",
    "        print(\"Round:\"+str(rep))\n",
    "        rep=rep+1\n",
    "        logreg_l1 = linear_model.LogisticRegressionCV(penalty='l1', Cs=10, solver = 'liblinear' )\n",
    "        logreg_l1.fit(df_l.loc[train][newfeatures[:-1]],df_l.loc[train].label)\n",
    "        score=logreg_l1.score(df_l.loc[test][newfeatures[:-1]],df_l.loc[test].label.astype(int))\n",
    "        cval=logreg_l1.C_\n",
    "        avg+=score\n",
    "        print(\"Score :\"+str(score),\"C value\",cval)\n",
    "        cs = logreg_l1.coef_\n",
    "        cs_score.append(cs) \n",
    "    avg=avg/5\n",
    "    print(\".................................Average score for L=\"+str(L)+\" is  \"+str(avg))\n"
   ]
  },
  {
   "cell_type": "code",
   "execution_count": 453,
   "metadata": {
    "collapsed": true
   },
   "outputs": [],
   "source": [
    "l1_selected_ftrs=[]\n",
    "for i in cs_score[30:35]:\n",
    "    for j in i:\n",
    "        for k in range(len(j)):\n",
    "            if j[k] == 0:\n",
    "                l1_selected_ftrs.append(df_l.columns[k])\n",
    "l1_selected_ftrs=set(l1_selected_ftrs)\n",
    "l1_selected_ftrs=list(df_l.columns[[0,3,4,6,7,8,9,10,11,13,15,16,17,18]])"
   ]
  },
  {
   "cell_type": "code",
   "execution_count": 454,
   "metadata": {},
   "outputs": [
    {
     "data": {
      "text/plain": [
       "['avg_rss12_mean',\n",
       " 'var_rss12_mean',\n",
       " 'var_rss12_25%',\n",
       " 'avg_rss13_mean',\n",
       " 'avg_rss13_25%',\n",
       " 'avg_rss13_75%',\n",
       " 'var_rss13_mean',\n",
       " 'var_rss13_25%',\n",
       " 'var_rss13_75%',\n",
       " 'avg_rss23_25%',\n",
       " 'var_rss23_mean',\n",
       " 'var_rss23_25%',\n",
       " 'var_rss23_75%',\n",
       " 'label']"
      ]
     },
     "execution_count": 454,
     "metadata": {},
     "output_type": "execute_result"
    }
   ],
   "source": [
    "l1_selected_ftrs"
   ]
  },
  {
   "cell_type": "markdown",
   "metadata": {},
   "source": [
    "### Normalize data"
   ]
  },
  {
   "cell_type": "code",
   "execution_count": 324,
   "metadata": {
    "collapsed": true
   },
   "outputs": [],
   "source": [
    "scaler = StandardScaler()"
   ]
  },
  {
   "cell_type": "code",
   "execution_count": 338,
   "metadata": {
    "collapsed": true
   },
   "outputs": [],
   "source": [
    "df_l1train[['avg_rss12_mean','var_rss12_mean','avg_rss13_mean','var_rss13_mean','avg_rss23_25%','avg_rss13_75%']]=scaler.fit_transform(df_l1train[['avg_rss12_mean','var_rss12_mean','avg_rss13_mean','var_rss13_mean','avg_rss23_25%','avg_rss13_75%']])"
   ]
  },
  {
   "cell_type": "markdown",
   "metadata": {},
   "source": [
    "## Best CV score for L=7"
   ]
  },
  {
   "cell_type": "code",
   "execution_count": 456,
   "metadata": {
    "collapsed": true
   },
   "outputs": [],
   "source": [
    "df_l1train=df_Lsplit(df_fulltrain,7).replace(['bending1', 'bending2', 'cycling', 'lying', 'sitting', 'standing','walking'],[0,0,1,1,1,1,1])\n",
    "df_l1train=df_l1train[l1_selected_ftrs]\n",
    "df_l1test=df_Lsplit(df_fulltest,7).replace(['bending1', 'bending2', 'cycling', 'lying', 'sitting', 'standing','walking'],[0,0,1,1,1,1,1])\n",
    "df_l1test=df_ltest[l1_selected_ftrs]"
   ]
  },
  {
   "cell_type": "code",
   "execution_count": 457,
   "metadata": {
    "collapsed": true
   },
   "outputs": [],
   "source": [
    "#logreg_l1 = linear_model.LogisticRegression(penalty='l1', Cs=10, solver = 'liblinear' )\n",
    "logreg_l1.fit(df_l1train[l1_selected_ftrs[:-1]],df_l1train.label)\n",
    "score=logreg_l1.score(df_l1test[l1_selected_ftrs[:-1]],df_l1test.label.astype(int))"
   ]
  },
  {
   "cell_type": "code",
   "execution_count": 459,
   "metadata": {},
   "outputs": [
    {
     "name": "stdout",
     "output_type": "stream",
     "text": [
      "best C value [ 0.04641589]\n"
     ]
    }
   ],
   "source": [
    "print(\"best C value\",logreg_l1.C_)"
   ]
  },
  {
   "cell_type": "code",
   "execution_count": 458,
   "metadata": {},
   "outputs": [
    {
     "name": "stdout",
     "output_type": "stream",
     "text": [
      "Accuracy score for L= 7 is  0.978947368421\n"
     ]
    }
   ],
   "source": [
    "print(\"Accuracy score for L= 7 is \",score)"
   ]
  },
  {
   "cell_type": "markdown",
   "metadata": {},
   "source": [
    "### I found L1 penalization easier as we donot have to monitor p values and it automatically does C selection\n",
    "### however it is more computationally expensive than backward selection"
   ]
  },
  {
   "cell_type": "markdown",
   "metadata": {},
   "source": [
    "## F.i. Multi Class Classification"
   ]
  },
  {
   "cell_type": "code",
   "execution_count": 461,
   "metadata": {
    "collapsed": true
   },
   "outputs": [],
   "source": [
    "df_mctrain=df_Lsplit(df_fulltrain,7)\n",
    "df_mctrain=df_mctrain[l1_selected_ftrs]\n",
    "df_mctest=df_Lsplit(df_fulltest,7)\n",
    "df_mctest=df_mctest[l1_selected_ftrs]"
   ]
  },
  {
   "cell_type": "code",
   "execution_count": 513,
   "metadata": {},
   "outputs": [
    {
     "data": {
      "text/plain": [
       "LogisticRegression(C=0.04641589, class_weight=None, dual=False,\n",
       "          fit_intercept=True, intercept_scaling=1, max_iter=100,\n",
       "          multi_class='multinomial', n_jobs=1, penalty='l1',\n",
       "          random_state=None, solver='saga', tol=0.1, verbose=0,\n",
       "          warm_start=False)"
      ]
     },
     "execution_count": 513,
     "metadata": {},
     "output_type": "execute_result"
    }
   ],
   "source": [
    "clf = linear_model.LogisticRegression(C=0.04641589,multi_class='multinomial',penalty='l1', solver='saga', tol=0.1)\n",
    "clf.fit(df_mctrain[l1_selected_ftrs[:-1]], df_mctrain.label)"
   ]
  },
  {
   "cell_type": "code",
   "execution_count": 514,
   "metadata": {
    "collapsed": true
   },
   "outputs": [],
   "source": [
    "score = clf.score(df_mctest[l1_selected_ftrs[:-1]], df_mctest.label)"
   ]
  },
  {
   "cell_type": "code",
   "execution_count": 515,
   "metadata": {},
   "outputs": [
    {
     "data": {
      "text/plain": [
       "0.75187969924812026"
      ]
     },
     "execution_count": 515,
     "metadata": {},
     "output_type": "execute_result"
    }
   ],
   "source": [
    "score"
   ]
  },
  {
   "cell_type": "code",
   "execution_count": 466,
   "metadata": {},
   "outputs": [
    {
     "name": "stdout",
     "output_type": "stream",
     "text": [
      "[[14  0  0  0  0  0  0]\n",
      " [10  0  4  0  0  0  0]\n",
      " [ 0  0 21  0  0  0  0]\n",
      " [ 0  0  0 19  2  0  0]\n",
      " [ 0  0  0  2 15  4  0]\n",
      " [ 0  0  0  5  5 11  0]\n",
      " [ 0  0  0  0  0  0 21]]\n"
     ]
    }
   ],
   "source": [
    "predicted_val = clf.predict(df_mctest[l1_selected_ftrs[:-1]])\n",
    "cm = confusion_matrix(df_mctest.label,predicted_val)\n",
    "print(cm)"
   ]
  },
  {
   "cell_type": "code",
   "execution_count": null,
   "metadata": {
    "collapsed": true
   },
   "outputs": [],
   "source": [
    "y = label_binarize(df_mctrain.label, classes=['bending1', 'bending2', 'cycling', 'lying', 'sitting', 'standing', 'walking'])\n",
    "n_classes = y.shape[1]"
   ]
  },
  {
   "cell_type": "code",
   "execution_count": 489,
   "metadata": {
    "collapsed": true
   },
   "outputs": [],
   "source": [
    "random_state = np.random.RandomState(0)\n",
    "n_samples, n_features = df_mctrain[l1_selected_ftrs[:-1]].shape\n",
    "X = np.c_[df_mctrain[l1_selected_ftrs[:-1]], random_state.randn(n_samples, 200 * n_features)]\n",
    "\n",
    "# shuffle and split training and test sets\n",
    "X_train, X_test, y_train, y_test = train_test_split(X, y, test_size=.5,random_state=0)\n",
    "\n",
    "# Learn to predict each class against the other\n",
    "classifier = OneVsRestClassifier(svm.SVC(kernel='linear', probability=True,\n",
    "                                 random_state=random_state))\n",
    "y_score = classifier.fit(X_train, y_train).decision_function(X_test)"
   ]
  },
  {
   "cell_type": "code",
   "execution_count": 491,
   "metadata": {
    "collapsed": true
   },
   "outputs": [],
   "source": [
    "fpr = dict()\n",
    "tpr = dict()\n",
    "roc_auc = dict()\n",
    "for i in range(n_classes):\n",
    "    fpr[i], tpr[i], _ = roc_curve(y_test[:, i], y_score[:, i])\n",
    "    roc_auc[i] = auc(fpr[i], tpr[i])\n",
    "\n",
    "# Compute micro-average ROC curve and ROC area\n",
    "fpr[\"micro\"], tpr[\"micro\"], _ = roc_curve(y_test.ravel(), y_score.ravel())\n",
    "roc_auc[\"micro\"] = auc(fpr[\"micro\"], tpr[\"micro\"])"
   ]
  },
  {
   "cell_type": "code",
   "execution_count": 492,
   "metadata": {},
   "outputs": [
    {
     "data": {
      "image/png": "[encoded data removed]",
      "text/plain": [
       "<matplotlib.figure.Figure at 0x142315f0240>"
      ]
     },
     "metadata": {},
     "output_type": "display_data"
    }
   ],
   "source": [
    "plt.figure()\n",
    "lw = 2\n",
    "plt.plot(fpr[2], tpr[2], color='darkorange',\n",
    "         lw=lw, label='ROC curve (area = %0.2f)' % roc_auc[2])\n",
    "plt.plot([0, 1], [0, 1], color='navy', lw=lw, linestyle='--')\n",
    "plt.xlim([0.0, 1.0])\n",
    "plt.ylim([0.0, 1.05])\n",
    "plt.xlabel('False Positive Rate')\n",
    "plt.ylabel('True Positive Rate')\n",
    "plt.title('Receiver operating characteristic example')\n",
    "plt.legend(loc=\"lower right\")\n",
    "plt.show()"
   ]
  },
  {
   "cell_type": "markdown",
   "metadata": {},
   "source": [
    "## ii  Na¨ıve Bayes’ classiﬁer"
   ]
  },
  {
   "cell_type": "markdown",
   "metadata": {},
   "source": [
    "### Using Gaussian"
   ]
  },
  {
   "cell_type": "code",
   "execution_count": 507,
   "metadata": {},
   "outputs": [
    {
     "name": "stdout",
     "output_type": "stream",
     "text": [
      "Test score with L1 penalty on a entire train set: 0.8195\n",
      "Test error with L1 penalty for entire train set: 0.1805\n"
     ]
    }
   ],
   "source": [
    "\n",
    "gnb = GaussianNB()\n",
    "y_pred = gnb.fit(df_mctrain[l1_selected_ftrs[:-1]],df_mctrain.label).predict(df_mctest[l1_selected_ftrs[:-1]])\n",
    "GaussianNBscore = metrics.accuracy_score(df_mctest.label,y_pred) \n",
    "print(\"Test score with L1 penalty on a entire train set: %.4f\" % GaussianNBscore)\n",
    "print(\"Test error with L1 penalty for entire train set: %.4f\" % (1-GaussianNBscore))\n",
    "\n"
   ]
  },
  {
   "cell_type": "markdown",
   "metadata": {},
   "source": [
    "### Using Multinomial"
   ]
  },
  {
   "cell_type": "code",
   "execution_count": 508,
   "metadata": {},
   "outputs": [
    {
     "name": "stdout",
     "output_type": "stream",
     "text": [
      "Test score with L1 penalty on a entire train set: 0.7444\n",
      "Test error with L1 penalty for entire train set: 0.2556\n"
     ]
    }
   ],
   "source": [
    "\n",
    "from sklearn.naive_bayes import MultinomialNB\n",
    "\n",
    "\n",
    "mnb = MultinomialNB()\n",
    "y_pred = mnb.fit(df_mctrain[l1_selected_ftrs[:-1]],df_mctrain.label).predict(df_mctest[l1_selected_ftrs[:-1]])\n",
    "MNscore = metrics.accuracy_score(df_mctest.label, y_pred) \n",
    "print(\"Test score with L1 penalty on a entire train set: %.4f\" % MNscore)\n",
    "print(\"Test error with L1 penalty for entire train set: %.4f\" % (1-MNscore))\n"
   ]
  },
  {
   "cell_type": "markdown",
   "metadata": {},
   "source": [
    "### Conclusion : Gaussian Naive Bayes model yields a better accuracy."
   ]
  }
 ],
 "metadata": {
  "kernelspec": {
   "display_name": "Python 3",
   "language": "python",
   "name": "python3"
  },
  "language_info": {
   "codemirror_mode": {
    "name": "ipython",
    "version": 3
   },
   "file_extension": ".py",
   "mimetype": "text/x-python",
   "name": "python",
   "nbconvert_exporter": "python",
   "pygments_lexer": "ipython3",
   "version": "3.6.3"
  }
 },
 "nbformat": 4,
 "nbformat_minor": 2
}
